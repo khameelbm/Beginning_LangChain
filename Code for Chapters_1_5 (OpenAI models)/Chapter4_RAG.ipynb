{
 "cells": [
  {
   "metadata": {},
   "cell_type": "markdown",
   "source": [
    "## Chapter 4\n",
    "\n",
    "    - This notebook contains the code for the chapter 4 of the book"
   ],
   "id": "a89f317f0652a2c"
  },
  {
   "metadata": {
    "ExecuteTime": {
     "end_time": "2025-07-20T00:45:01.974247Z",
     "start_time": "2025-07-20T00:44:56.129724Z"
    }
   },
   "cell_type": "code",
   "source": [
    "from getpass import getpass\n",
    "import os\n",
    "OPENAI_API_KEY = getpass()"
   ],
   "id": "1998ba05a883a289",
   "outputs": [],
   "execution_count": 1
  },
  {
   "metadata": {
    "ExecuteTime": {
     "end_time": "2025-07-20T00:45:04.911505Z",
     "start_time": "2025-07-20T00:45:04.908339Z"
    }
   },
   "cell_type": "code",
   "source": "os.environ['OPENAI_API_KEY'] = OPENAI_API_KEY",
   "id": "106bb9b8c42e82cd",
   "outputs": [],
   "execution_count": 2
  },
  {
   "metadata": {},
   "cell_type": "markdown",
   "source": [
    "### Recipe 4.2a: Loading a PDF document (default parameters)\n",
    "\n",
    "    NOTE: Install pypdf before running the code"
   ],
   "id": "3c44eb1ca0af819a"
  },
  {
   "metadata": {
    "ExecuteTime": {
     "end_time": "2025-07-20T00:46:47.899006Z",
     "start_time": "2025-07-20T00:46:45.097457Z"
    }
   },
   "cell_type": "code",
   "source": [
    "from langchain_community.document_loaders import PyPDFLoader\n",
    " \n",
    "## Step 1: Define the path (a directory)\n",
    "path = \"./rag_resources/product_specification_sheet.pdf\"\n",
    " \n",
    "## Step 2: Instantiate the class with the path\n",
    "pdf_loader = PyPDFLoader(path)\n",
    " \n",
    "\n",
    "## Step 3: Load into memory\n",
    "pdf_docs_basic = pdf_loader.load() \n",
    "\n",
    "## Step 4: Print the Document class returned.\n",
    "print(pdf_docs_basic) \n"
   ],
   "id": "8558a4c8daedc07a",
   "outputs": [
    {
     "name": "stdout",
     "output_type": "stream",
     "text": [
      "[Document(metadata={'producer': 'Microsoft® Word for Microsoft 365', 'creator': 'Microsoft® Word for Microsoft 365', 'creationdate': '2025-05-23T10:56:06+00:00', 'moddate': '2025-05-23T10:56:06+00:00', 'source': './rag_resources/product_specification_sheet.pdf', 'total_pages': 4, 'page': 0, 'page_label': '1'}, page_content='Product Specification Sheet – Zonic Earbuds Pro \\n \\nProduct Introduction \\nThe Zonic Earbuds Pro represent the next generation of true wireless audio for consumers \\nwho value performance, reliability, and convenience. Developed for busy professionals and \\ntech-savvy users alike, these earbuds integrate premium hardware and sophisticated software \\nto create an immersive, hassle-free listening experience. Whether you are managing calls on \\nthe go, relaxing with your favorite playlist, or seeking comfort during long work sessions, Zonic \\nEarbuds Pro are engineered to fit seamlessly into modern lifestyles. \\n \\nKey Features & Use Cases \\n• All-day battery: Spend less time charging and more time connected, with up to 8 hours \\nof listening on a single charge and an additional 24 hours provided via the compact \\ncharging case. \\n• Superior sound quality : Advanced 10mm bio -inspired drivers deliver rich bass, clear \\nmids, and crisp highs across all music genres and voice calls. \\n• Smart connectivity: Integrated with Bluetooth 5.2 for robust connectivity, minimal lag, \\nand the convenience of pairing with multiple devices. \\n• Active noise reduction: Ambient noise reduction with AI -powered dual microphones \\nallows for crystal -clear communication, whether you are making calls from a busy \\noffice or an outdoor café. \\n• Water & sweat resistance : IPX5 rating ensures your earbuds can stand up to sweat \\nduring workouts, light rain, and accidental splashes. \\n• Touch controls & voice assistant : Easy-to-use, intuitive touch controls let you play, \\npause, change tracks, and summon your voice assistant with simple gestures. \\nIdeal use cases: \\n• Daily commuting and travel \\n• Office environments and virtual meetings \\n• Gym sessions and sports activities \\n• Home entertainment and relaxation'), Document(metadata={'producer': 'Microsoft® Word for Microsoft 365', 'creator': 'Microsoft® Word for Microsoft 365', 'creationdate': '2025-05-23T10:56:06+00:00', 'moddate': '2025-05-23T10:56:06+00:00', 'source': './rag_resources/product_specification_sheet.pdf', 'total_pages': 4, 'page': 1, 'page_label': '2'}, page_content='Design Philosophy \\nInspired by the needs of everyday users and audiophiles alike, Zonic Earbuds Pro were \\ndesigned for both performance and comfort. Lightweight construction (just 5g per earbud) \\nand ergonomic contours enable all -day wear without discomfort. Three sizes of sil icone ear \\ntips ensure a secure fit for every ear type, helping to block outside sound passively and prevent \\nslippage during movement. \\nThe charging case, crafted from durable, matte -finish polycarbonate, not only protects the \\nearbuds but adds a touch of sophistication to your essentials. Available in three elegant \\ncolors—Midnight Black, Pearl White, and Mist Blue—the Zonic Earbuds Pro blend seamlessly \\nwith both professional and casual attire. \\n \\n \\nFeature Summary \\nFeature Specification \\nModel Name Zonic Earbuds Pro \\nBattery Life (Earbuds) 8 hours \\nBattery Life (Case) 24 hours (additional) \\nCharging Time 1.5 hours (earbuds), 2 hours (case) \\nQuick Charge 10 min = 1 hour playback \\nWireless Range Up to 15 meters \\nBluetooth Version 5.2 \\nAudio Codecs SBC, AAC, aptX \\nWater Resistance IPX5 (splash, sweat proof) \\nMicrophones Two per earbud, AI noise reduction \\nTouch Controls Play/pause, skip, volume, voice assistant \\n \\nBox Contents \\n• Zonic Earbuds Pro (pair) \\n• Charging case \\n• Silicone ear tips (small/medium/large)'), Document(metadata={'producer': 'Microsoft® Word for Microsoft 365', 'creator': 'Microsoft® Word for Microsoft 365', 'creationdate': '2025-05-23T10:56:06+00:00', 'moddate': '2025-05-23T10:56:06+00:00', 'source': './rag_resources/product_specification_sheet.pdf', 'total_pages': 4, 'page': 2, 'page_label': '3'}, page_content='• USB-C charging cable \\n• Quick start guide \\n• Warranty and safety information \\n \\n• Detailed Technical Specifications \\n \\nAudio \\n• Driver Size: 10mm biocellulose dynamic drivers \\n• Frequency Response: 20Hz – 20,000Hz \\n• Sensitivity: 98 dB SPL \\n• Impedance: 16 Ohms \\nMicrophone \\n• Type: MEMS, dual-mic per earbud \\n• Features: Ambient noise reduction with AI, wind suppression \\nPower and Battery \\n• Battery Type: Lithium-ion \\n• Earbud Capacity: 60 mAh each \\n• Case Capacity: 500 mAh \\n• Standby Time: Up to 80 hours \\n• Charging Port: USB-C, wireless charging (Qi compatible) \\nConnectivity \\n• Bluetooth Profiles: HSP , HFP , A2DP , AVRCP \\n• One-Touch Pairing: Yes \\n• Multi-Device Pairing: Up to 2 devices \\nPhysical \\n• Weight (Earbud): 5g each \\n• Weight (Case): 45g \\n• Dimensions (Case): 65 x 35 x 27 mm'), Document(metadata={'producer': 'Microsoft® Word for Microsoft 365', 'creator': 'Microsoft® Word for Microsoft 365', 'creationdate': '2025-05-23T10:56:06+00:00', 'moddate': '2025-05-23T10:56:06+00:00', 'source': './rag_resources/product_specification_sheet.pdf', 'total_pages': 4, 'page': 3, 'page_label': '4'}, page_content='• Colors Available: Midnight Black, Pearl White, Mist Blue \\n \\nCertifications \\n• CE, FCC, RoHS \\n• IPX5 certified \\n• Designed and tested according to IEC 60529 \\nPair the bods with our products:')]\n"
     ]
    }
   ],
   "execution_count": 4
  },
  {
   "metadata": {
    "ExecuteTime": {
     "end_time": "2025-07-17T13:29:05.233803Z",
     "start_time": "2025-07-17T13:29:05.229728Z"
    }
   },
   "cell_type": "code",
   "source": [
    "## Count the length of the result using the len function\n",
    "print(len(pdf_docs_basic))\n",
    " \n",
    "## Print the .page_content of the first Document \n",
    "print(pdf_docs_basic[0].page_content)\n",
    " \n",
    "## Print the metadat of the first Document \n",
    "print(pdf_docs_basic[0].metadata) \n"
   ],
   "id": "22c72f36ea482070",
   "outputs": [
    {
     "name": "stdout",
     "output_type": "stream",
     "text": [
      "4\n",
      "Product Specification Sheet – Zonic Earbuds Pro \n",
      " \n",
      "Product Introduction \n",
      "The Zonic Earbuds Pro represent the next generation of true wireless audio for consumers \n",
      "who value performance, reliability, and convenience. Developed for busy professionals and \n",
      "tech-savvy users alike, these earbuds integrate premium hardware and sophisticated software \n",
      "to create an immersive, hassle-free listening experience. Whether you are managing calls on \n",
      "the go, relaxing with your favorite playlist, or seeking comfort during long work sessions, Zonic \n",
      "Earbuds Pro are engineered to fit seamlessly into modern lifestyles. \n",
      " \n",
      "Key Features & Use Cases \n",
      "• All-day battery: Spend less time charging and more time connected, with up to 8 hours \n",
      "of listening on a single charge and an additional 24 hours provided via the compact \n",
      "charging case. \n",
      "• Superior sound quality : Advanced 10mm bio -inspired drivers deliver rich bass, clear \n",
      "mids, and crisp highs across all music genres and voice calls. \n",
      "• Smart connectivity: Integrated with Bluetooth 5.2 for robust connectivity, minimal lag, \n",
      "and the convenience of pairing with multiple devices. \n",
      "• Active noise reduction: Ambient noise reduction with AI -powered dual microphones \n",
      "allows for crystal -clear communication, whether you are making calls from a busy \n",
      "office or an outdoor café. \n",
      "• Water & sweat resistance : IPX5 rating ensures your earbuds can stand up to sweat \n",
      "during workouts, light rain, and accidental splashes. \n",
      "• Touch controls & voice assistant : Easy-to-use, intuitive touch controls let you play, \n",
      "pause, change tracks, and summon your voice assistant with simple gestures. \n",
      "Ideal use cases: \n",
      "• Daily commuting and travel \n",
      "• Office environments and virtual meetings \n",
      "• Gym sessions and sports activities \n",
      "• Home entertainment and relaxation\n",
      "{'producer': 'Microsoft® Word for Microsoft 365', 'creator': 'Microsoft® Word for Microsoft 365', 'creationdate': '2025-05-23T10:56:06+00:00', 'moddate': '2025-05-23T10:56:06+00:00', 'source': './rag_resources/product_specification_sheet.pdf', 'total_pages': 4, 'page': 0, 'page_label': '1'}\n"
     ]
    }
   ],
   "execution_count": 3
  },
  {
   "metadata": {},
   "cell_type": "markdown",
   "source": [
    "### Recipe 4.2b: Harnessing PyPDFLoader for a PDF with tables and images\n",
    "\n",
    "    NOTE: Install \"rapidocr-onnxruntime\" before running this code"
   ],
   "id": "4adc3efd11c2932b"
  },
  {
   "metadata": {
    "ExecuteTime": {
     "end_time": "2025-07-17T13:38:59.738610Z",
     "start_time": "2025-07-17T13:38:59.370450Z"
    }
   },
   "cell_type": "code",
   "source": [
    "from langchain_community.document_loaders import PyPDFLoader\n",
    " \n",
    "## Specify the path\n",
    "path = \"./rag_resources/product_specification_sheet.pdf\"\n",
    " \n",
    "## Instantiate the class with the path\n",
    "\n",
    "pdf_loader = PyPDFLoader(path, \n",
    "                         mode = \"page\", \n",
    "                         extraction_mode = 'layout', \n",
    "                         extract_images = True,                         \n",
    "                         images_inner_format=\"markdown-img\")\n",
    "\n",
    "## Load into memory\n",
    "pdf_docs_layout = pdf_loader.load()\n",
    " \n",
    "## Print the number of first page to see the layout\n",
    "print(pdf_docs_layout[0].page_content)\n",
    " \n",
    "## Print the second page to see the layout of the table\n",
    "print(pdf_docs_layout[1].page_content)\n",
    " \n",
    "## Print the last page to see if the images are well parsed\n",
    "print(pdf_docs_layout[3].page_content) \n"
   ],
   "id": "27fc22aed100f259",
   "outputs": [
    {
     "name": "stdout",
     "output_type": "stream",
     "text": [
      "Product Specification Sheet – Zonic Earbuds Pro\n",
      "\n",
      "\n",
      "Product Introduction\n",
      "\n",
      "The Zonic Earbuds Pro represent the next generation of true wireless audio for consumers\n",
      "who value performance, reliability, and convenience. Developed for busy professionals and\n",
      "tech-savvy users alike, these earbuds integrate premium hardware and sophisticated software\n",
      "to create an immersive, hassle-free listening experience. Whether you are managing calls on\n",
      "the go, relaxing with your favorite playlist, or seeking comfort during long work sessions, Zonic\n",
      "Earbuds Pro are engineered to fit seamlessly into modern lifestyles.\n",
      "\n",
      "\n",
      "Key Features & Use Cases\n",
      "\n",
      "    •   All-day battery: Spend less time charging and more time connected, with up to 8 hours\n",
      "        of listening on a single charge and an additional 24 hours provided via the compact\n",
      "        charging case.\n",
      "\n",
      "    •   Superior sound quality: Advanced 10mm bio-inspired drivers deliver rich bass, clear\n",
      "        mids, and crisp highs across all music genres and voice calls.\n",
      "\n",
      "    •   Smart connectivity: Integrated with Bluetooth 5.2 for robust connectivity, minimal lag,\n",
      "        and the convenience of pairing with multiple devices.\n",
      "\n",
      "    •   Active noise reduction: Ambient noise reduction with AI-powered dual microphones\n",
      "        allows for crystal-clear communication, whether you are making calls from a busy\n",
      "        office or an outdoor café.\n",
      "\n",
      "    •   Water & sweat resistance: IPX5 rating ensures your earbuds can stand up to sweat\n",
      "        during workouts, light rain, and accidental splashes.\n",
      "\n",
      "    •   Touch controls & voice assistant: Easy-to-use, intuitive touch controls let you play,\n",
      "        pause, change tracks, and summon your voice assistant with simple gestures.\n",
      "\n",
      "Ideal use cases:\n",
      "\n",
      "    •   Daily commuting and travel\n",
      "\n",
      "    •   Office environments and virtual meetings\n",
      "\n",
      "    •   Gym sessions and sports activities\n",
      "\n",
      "    •   Home entertainment and relaxation\n",
      "Design Philosophy\n",
      "\n",
      "Inspired by the needs of everyday users and audiophiles alike, Zonic Earbuds Pro were\n",
      "designed for both performance and comfort. Lightweight construction (just 5g per earbud)\n",
      "and ergonomic contours enable all-day wear without discomfort. Three sizes of silicone ear\n",
      "tips ensure a secure fit for every ear type, helping to block outside sound passively and prevent\n",
      "slippage during movement.\n",
      "\n",
      "The charging case, crafted from durable, matte-finish polycarbonate, not only protects the\n",
      "earbuds but adds a touch of sophistication to your essentials. Available in three elegant\n",
      "colors—Midnight Black, Pearl White, and Mist Blue—the Zonic Earbuds Pro blend seamlessly\n",
      "with both professional and casual attire.\n",
      "\n",
      "\n",
      "\n",
      "\n",
      "Feature Summary\n",
      "\n",
      " Feature                      Specification\n",
      "\n",
      " Model Name                   Zonic Earbuds Pro\n",
      "\n",
      " Battery Life (Earbuds)       8 hours\n",
      "\n",
      " Battery Life (Case)          24 hours (additional)\n",
      "\n",
      " Charging Time                1.5 hours (earbuds), 2 hours (case)\n",
      "\n",
      " Quick Charge                 10 min = 1 hour playback\n",
      "\n",
      " Wireless Range               Up to 15 meters\n",
      "\n",
      " Bluetooth Version            5.2\n",
      "\n",
      " Audio Codecs                 SBC, AAC, aptX\n",
      "\n",
      " Water Resistance             IPX5 (splash, sweat proof)\n",
      "\n",
      " Microphones                  Two per earbud, AI noise reduction\n",
      "\n",
      " Touch Controls               Play/pause, skip, volume, voice assistant\n",
      "\n",
      "\n",
      "Box Contents\n",
      "\n",
      "    •    Zonic Earbuds Pro (pair)\n",
      "\n",
      "    •    Charging case\n",
      "\n",
      "    •    Silicone ear tips (small/medium/large)\n",
      "•    Colors Available: Midnight Black, Pearl White, Mist Blue\n",
      "\n",
      "\n",
      "Certifications\n",
      "\n",
      "    •    CE, FCC, RoHS\n",
      "\n",
      "    •    IPX5 certified\n",
      "\n",
      "    •    Designed and tested according to IEC 60529\n",
      "\n",
      "Pair the bods with our products:\n"
     ]
    }
   ],
   "execution_count": 5
  },
  {
   "metadata": {},
   "cell_type": "markdown",
   "source": "### Recipe 4.2c: Loading CSV files",
   "id": "1ccaa1f675649988"
  },
  {
   "metadata": {
    "ExecuteTime": {
     "end_time": "2025-07-17T13:47:44.727626Z",
     "start_time": "2025-07-17T13:47:44.717874Z"
    }
   },
   "cell_type": "code",
   "source": [
    "from langchain_community.document_loaders import CSVLoader\n",
    " \n",
    " ## Specify the path\n",
    "path = \"./rag_resources/monthly_sales_report_may_2025.csv\"\n",
    " \n",
    "## Instantiate the class with the path\n",
    "csv_loader = CSVLoader(path)\n",
    " \n",
    "## Load into memory\n",
    "csv_docs = csv_loader.load()\n"
   ],
   "id": "5f5248977fddf95",
   "outputs": [],
   "execution_count": 7
  },
  {
   "metadata": {
    "ExecuteTime": {
     "end_time": "2025-07-17T13:48:08.433470Z",
     "start_time": "2025-07-17T13:48:08.427416Z"
    }
   },
   "cell_type": "code",
   "source": [
    "print(len(csv_docs))\n",
    " \n",
    "print(\"\\n ###\")            \n",
    " \n",
    "print(csv_docs[0].page_content)\n",
    " \n",
    "print(\"\\n ###\")            \n",
    " \n",
    "print(csv_docs[0].metadata) \n"
   ],
   "id": "424d614abbea7a6f",
   "outputs": [
    {
     "name": "stdout",
     "output_type": "stream",
     "text": [
      "372\n",
      "\n",
      " ###\n",
      "date: 1/5/2025\n",
      "product_ID: ZF-SWP-EXT-2025\n",
      "product_name: ZonicFit Smartwatch Pro (Extended)\n",
      "region: North America\n",
      "units_sold: 105\n",
      "revenue_USD: 52447.5\n",
      "cost_of_goods_sold_USD: 26223.75\n",
      "gross_profit_USD: 26223.75\n",
      "\n",
      " ###\n",
      "{'source': './rag_resources/monthly_sales_report_may_2025.csv', 'row': 0}\n"
     ]
    }
   ],
   "execution_count": 8
  },
  {
   "metadata": {},
   "cell_type": "markdown",
   "source": [
    "### Recipe 4.2d: Loading HTML documents\n",
    "\n",
    "NOTE: This requires a dependency called \"unstructured\""
   ],
   "id": "c431d66441e1917f"
  },
  {
   "metadata": {
    "ExecuteTime": {
     "end_time": "2025-07-17T13:52:22.992320Z",
     "start_time": "2025-07-17T13:52:20.087864Z"
    }
   },
   "cell_type": "code",
   "source": [
    "from langchain_community.document_loaders import UnstructuredHTMLLoader\n",
    " \n",
    "## Step 1: Specify the path\n",
    "path = \"./rag_resources/zonic_landing_page.html\"\n",
    " \n",
    "## Step 2: Instantiate the class with the path\n",
    "html_loader = UnstructuredHTMLLoader(path)\n",
    " \n",
    "## Step 3: Load into memory\n",
    "html_docs = html_loader.load()\n",
    " \n"
   ],
   "id": "d2c9b23be1dc01c6",
   "outputs": [],
   "execution_count": 9
  },
  {
   "metadata": {
    "ExecuteTime": {
     "end_time": "2025-07-17T13:55:03.943031Z",
     "start_time": "2025-07-17T13:55:03.936566Z"
    }
   },
   "cell_type": "code",
   "source": [
    "# Print the first document\n",
    "print(len(html_docs))\n",
    " \n",
    "# Print the first document\n",
    "print(html_docs[0].page_content)\n",
    " \n",
    "# Print the first document's metadata\n",
    "print(html_docs[0].metadata)\n"
   ],
   "id": "8d617484211e1a6",
   "outputs": [
    {
     "name": "stdout",
     "output_type": "stream",
     "text": [
      "1\n",
      "Zonic\n",
      "\n",
      "Experience the Future of Connected Living with Zonic\n",
      "\n",
      "From smart wearables to intelligent home devices, Zonic empowers your lifestyle with innovative technology designed for simplicity and performance.\n",
      "\n",
      "Discover Our Products\n",
      "\n",
      "Our Innovative Zonic Products\n",
      "\n",
      "ZonicFit Smartwatch Pro\n",
      "\n",
      "ZonicFit Smartwatch Pro\n",
      "\n",
      "Track your health, stay connected, and push your limits with advanced sensors and extended battery life.\n",
      "\n",
      "ZonicSound Smart Speaker\n",
      "\n",
      "ZonicSound Smart Speaker\n",
      "\n",
      "Immersive audio and intelligent voice assistant for your home. Experience sound like never before.\n",
      "\n",
      "ZonicAudio Pro Earbuds\n",
      "\n",
      "ZonicAudio Pro Earbuds\n",
      "\n",
      "Premium sound, active noise cancellation, and all-day comfort for your music and calls.\n",
      "\n",
      "ZonicConnect Home Camera\n",
      "\n",
      "ZonicConnect Home Camera\n",
      "\n",
      "Keep an eye on what matters most with smart monitoring, motion detection, and two-way audio.\n",
      "\n",
      "About Zonic Innovations\n",
      "\n",
      "At Zonic, we believe in a world where technology enhances daily life seamlessly and intuitively. Founded on principles of innovation, quality, and user-centric design, we are dedicated to creating smart devices that are not just cutting-edge but also reliable and easy to use. From health monitoring wearables to intelligent home ecosystems, our products are crafted to bring convenience, entertainment, and peace of mind to your fingertips. We are committed to pushing the boundaries of what's possible, ensuring that every Zonic device delivers an exceptional experience.\n",
      "\n",
      "Ready to Upgrade Your Lifestyle?\n",
      "\n",
      "Explore the full range of Zonic products and find the perfect companion for your connected journey.\n",
      "\n",
      "Shop All Zonic Products\n",
      "\n",
      "Privacy Policy\n",
      "\n",
      "Terms of Service\n",
      "\n",
      "Support\n",
      "\n",
      "Careers\n",
      "\n",
      "Facebook\n",
      "\n",
      "Twitter\n",
      "\n",
      "Instagram\n",
      "\n",
      "LinkedIn\n",
      "\n",
      "© 2025 Zonic Innovations. All rights reserved.\n",
      "{'source': './rag_resources/zonic_landing_page.html'}\n"
     ]
    }
   ],
   "execution_count": 10
  },
  {
   "metadata": {},
   "cell_type": "markdown",
   "source": "### Recipe 4.2e: Batch loading PDFs from a directory ",
   "id": "dc3fcdfeb56bcbe3"
  },
  {
   "metadata": {
    "ExecuteTime": {
     "end_time": "2025-07-17T13:56:36.159748Z",
     "start_time": "2025-07-17T13:56:35.572783Z"
    }
   },
   "cell_type": "code",
   "source": [
    "from langchain_community.document_loaders import DirectoryLoader, PyPDFLoader\n",
    " \n",
    "## Step 1: Define the path (a directory)\n",
    "path = \"./rag_resources\"\n",
    " \n",
    "## Step 2: Instantiate the directory loader with the path\n",
    "dir_loader = DirectoryLoader(path, glob=\"**/*.pdf\", \n",
    "                             loader_cls = PyPDFLoader,\n",
    "                             show_progress=True,\n",
    "                             loader_kwargs = {\"mode\":\"page\", \n",
    "                                              \"extraction_mode\":'layout',  \n",
    "                                              \"images_inner_format\":\"markdown-img\"}\n",
    "                            )\n",
    " \n",
    " \n",
    "## Step 3: Invoke the load method to load the files into memory\n",
    "dir_pdf_docs = dir_loader.load() \n",
    " \n"
   ],
   "id": "f8f5fb301169771d",
   "outputs": [
    {
     "name": "stderr",
     "output_type": "stream",
     "text": [
      "100%|██████████| 3/3 [00:00<00:00,  5.30it/s]\n"
     ]
    }
   ],
   "execution_count": 11
  },
  {
   "metadata": {},
   "cell_type": "markdown",
   "source": "### Recipe 4.2f: Loading multiple file types from a directory ",
   "id": "508a0ea15f8520ac"
  },
  {
   "metadata": {
    "ExecuteTime": {
     "end_time": "2025-07-17T23:31:31.503008Z",
     "start_time": "2025-07-17T23:31:30.841547Z"
    }
   },
   "cell_type": "code",
   "source": [
    "from langchain_community.document_loaders import DirectoryLoader, PyPDFLoader, TextLoader\n",
    "\n",
    "# Define the directory path\n",
    "path = \"rag_resources\"\n",
    " \n",
    "# Instantiate the directory loader for the PDF docs\n",
    "pdf_loader = DirectoryLoader(\n",
    "    path,\n",
    "    glob=\"**/*.pdf\",\n",
    "    loader_cls=PyPDFLoader,\n",
    "    loader_kwargs={\n",
    "        \"mode\": \"page\",\n",
    "        \"extraction_mode\": \"layout\",\n",
    "        \"images_inner_format\": \"markdown-img\"\n",
    "    },\n",
    "    show_progress=True\n",
    ")\n",
    "\n",
    "# Load the doc into memory\n",
    "pdf_docs = pdf_loader.load()\n",
    "for doc in pdf_docs:\n",
    "    doc.metadata[\"source_type\"] = \"pdf\"\n",
    " \n",
    "# Instantiate the directory loader for the text docs\n",
    "txt_loader = DirectoryLoader(\n",
    "    path,\n",
    "    glob=\"**/*.txt\",\n",
    "    loader_cls=TextLoader,\n",
    "    loader_kwargs={\"encoding\": \"utf-8\"},\n",
    "    show_progress=True\n",
    ")\n",
    "\n",
    "#Load the doc into memory\n",
    "txt_docs = txt_loader.load()\n",
    "for doc in txt_docs:\n",
    "    doc.metadata[\"source_type\"] = \"txt\"\n",
    " \n",
    "# Combine all documents\n",
    "all_docs = pdf_docs + txt_docs\n",
    "\n",
    "print(len(all_docs))\n"
   ],
   "id": "f64125a7b40f6444",
   "outputs": [
    {
     "name": "stderr",
     "output_type": "stream",
     "text": [
      "100%|██████████| 3/3 [00:00<00:00,  5.05it/s]\n",
      "100%|██████████| 2/2 [00:00<00:00, 40.25it/s]"
     ]
    },
    {
     "name": "stdout",
     "output_type": "stream",
     "text": [
      "14\n"
     ]
    },
    {
     "name": "stderr",
     "output_type": "stream",
     "text": [
      "\n"
     ]
    }
   ],
   "execution_count": 14
  },
  {
   "metadata": {},
   "cell_type": "markdown",
   "source": "### Recipe 4.3. Recursive text splitting",
   "id": "9e6f2dcec982b63a"
  },
  {
   "metadata": {
    "ExecuteTime": {
     "end_time": "2025-07-17T23:33:50.228578Z",
     "start_time": "2025-07-17T23:33:50.110800Z"
    }
   },
   "cell_type": "code",
   "source": [
    "from langchain_community.document_loaders import PyPDFLoader\n",
    "from langchain_text_splitters import RecursiveCharacterTextSplitter\n",
    " \n",
    "## Step 1 Parse the file and load it into memory\n",
    "path = \"./rag_resources/product_specification_sheet.pdf\"\n",
    "pdf_docs = PyPDFLoader(path).load()\n",
    " \n",
    " \n",
    "# Step 2: Define a text splitter that splits recursively through the character list\n",
    "text_splitter = RecursiveCharacterTextSplitter(\n",
    "    separators = ['\\n\\n', '\\n', ' ', ''],\n",
    "    chunk_size=200,  \n",
    "    chunk_overlap=50  \n",
    ")\n",
    " \n",
    "# Step 3: Split the document using text_splitter’s .split_document method\n",
    "doc_chunks = text_splitter.split_documents(pdf_docs)  \n",
    "\n",
    "print(f\"We have a total of {len(doc_chunks)} chunks in our document\\n\")\n",
    "\n",
    "# Step 4: Print the first 3 document chunks with their respective chunk size\n",
    "for i, chunk in enumerate(doc_chunks[:4]):\n",
    "    print(f\"This is chunk #{i+1}:\\n{chunk.page_content} \\nChunk size = {len(chunk.page_content)}\\n\") \n"
   ],
   "id": "aa28da3b7586b337",
   "outputs": [
    {
     "name": "stdout",
     "output_type": "stream",
     "text": [
      "We have a total of 27 chunks in our document\n",
      "\n",
      "This is chunk #1:\n",
      "Product Specification Sheet – Zonic Earbuds Pro \n",
      " \n",
      "Product Introduction \n",
      "The Zonic Earbuds Pro represent the next generation of true wireless audio for consumers \n",
      "Chunk size = 161\n",
      "\n",
      "This is chunk #2:\n",
      "who value performance, reliability, and convenience. Developed for busy professionals and \n",
      "tech-savvy users alike, these earbuds integrate premium hardware and sophisticated software \n",
      "Chunk size = 182\n",
      "\n",
      "This is chunk #3:\n",
      "to create an immersive, hassle-free listening experience. Whether you are managing calls on \n",
      "the go, relaxing with your favorite playlist, or seeking comfort during long work sessions, Zonic \n",
      "Chunk size = 190\n",
      "\n",
      "This is chunk #4:\n",
      "Earbuds Pro are engineered to fit seamlessly into modern lifestyles. \n",
      " \n",
      "Key Features & Use Cases \n",
      "• All-day battery: Spend less time charging and more time connected, with up to 8 hours \n",
      "Chunk size = 185\n",
      "\n"
     ]
    }
   ],
   "execution_count": 15
  },
  {
   "metadata": {},
   "cell_type": "markdown",
   "source": [
    "### Recip 4.4 A vanilla RAG pipeline integrating document processing, embedding, storage, and retrieval (OpenAI model)\n",
    "\n",
    "    NOTE: Replace the OPENAI_API_KEY variable with your own API key"
   ],
   "id": "ec0cf5acf48fe1fb"
  },
  {
   "metadata": {},
   "cell_type": "markdown",
   "source": "##### Steps 1- 5: Initiate document processing",
   "id": "a15d6dd411c24d09"
  },
  {
   "metadata": {
    "ExecuteTime": {
     "end_time": "2025-07-18T01:59:42.198268Z",
     "start_time": "2025-07-18T01:59:41.562627Z"
    }
   },
   "cell_type": "code",
   "source": [
    "from langchain_community.document_loaders import DirectoryLoader, PyPDFLoader\n",
    "from langchain_text_splitters import RecursiveCharacterTextSplitter\n",
    "\n",
    "## Step 1: Define the path (a directory)\n",
    "path = \"./rag_resources\"\n",
    "\n",
    "## Step 2: Instantiate the directory loader with the path\n",
    "dir_loader = DirectoryLoader(path, glob=\"**/*.pdf\", \n",
    "                             loader_cls = PyPDFLoader,\n",
    "                             show_progress=True,\n",
    "                             loader_kwargs = {\"mode\":\"page\"}\n",
    "                            )\n",
    "\n",
    "## Step 3: Invoke the load method to load the files into memory\n",
    "dir_pdf_docs = dir_loader.load()\n",
    "\n",
    "\n",
    "## Step 4 Define a text splitter that splits recursively through the character list\n",
    "text_splitter = RecursiveCharacterTextSplitter(\n",
    "    separators = ['\\n\\n', '\\n', ' ', ''],\n",
    "    chunk_size=400,  \n",
    "    chunk_overlap=20,\n",
    "    length_function = len\n",
    ")\n",
    "\n",
    "## Stp 5 Split the document using text_splitter\n",
    "doc_chunks = text_splitter.split_documents(dir_pdf_docs)"
   ],
   "id": "b68a77b6ffd13351",
   "outputs": [
    {
     "name": "stderr",
     "output_type": "stream",
     "text": [
      "100%|██████████| 3/3 [00:00<00:00,  4.84it/s]\n"
     ]
    }
   ],
   "execution_count": 16
  },
  {
   "metadata": {},
   "cell_type": "markdown",
   "source": "##### Steps 6 – 7: Define a vector store",
   "id": "d239f16a32b76ed0"
  },
  {
   "metadata": {
    "ExecuteTime": {
     "end_time": "2025-07-18T02:05:11.368470Z",
     "start_time": "2025-07-18T02:05:04.434212Z"
    }
   },
   "cell_type": "code",
   "source": [
    "from langchain_openai import OpenAIEmbeddings\n",
    "from langchain_chroma import Chroma\n",
    " \n",
    "## Step 6: Specify an embedding model\n",
    "embedding_model = OpenAIEmbeddings(api_key = OPENAI_API_KEY,\n",
    "                                   model = \"text-embedding-3-small\")\n",
    " \n",
    "## Step 7: Create a Chroma instance and instantiate it with an embedding model and the document chunk\n",
    "vectore_store = Chroma.from_documents(\n",
    "    embedding = embedding_model,\n",
    "    documents = doc_chunks\n",
    "   \n",
    ") \n"
   ],
   "id": "367fb2b188ce0ebd",
   "outputs": [],
   "execution_count": 21
  },
  {
   "metadata": {},
   "cell_type": "markdown",
   "source": "##### Step 8: Define the retriever using the vector store",
   "id": "e6aef9dd14e266e3"
  },
  {
   "metadata": {
    "ExecuteTime": {
     "end_time": "2025-07-18T02:05:13.532119Z",
     "start_time": "2025-07-18T02:05:13.528370Z"
    }
   },
   "cell_type": "code",
   "source": [
    "## Step 8: Transform the vectore store into a retriever\n",
    "retriever = vectore_store.as_retriever(\n",
    "    search_type = \"similarity\",\n",
    "    search_kwargs = {\"k\":2}\n",
    ")\n"
   ],
   "id": "dd0f117809d4d5a9",
   "outputs": [],
   "execution_count": 22
  },
  {
   "metadata": {},
   "cell_type": "markdown",
   "source": "##### Steps 9 – 10: Defining a model to generate a response, with the prompt template specifying instructions",
   "id": "960ce067c306057a"
  },
  {
   "metadata": {
    "ExecuteTime": {
     "end_time": "2025-07-18T02:05:19.566193Z",
     "start_time": "2025-07-18T02:05:19.015477Z"
    }
   },
   "cell_type": "code",
   "source": [
    "from langchain_openai import ChatOpenAI\n",
    "from langchain_core.prompts import ChatPromptTemplate\n",
    "  \n",
    "## Step 9: Define a prompt template\n",
    "prompt_template = ChatPromptTemplate.from_template(\n",
    "    input_variable = [\"context\", \"question\"],\n",
    "    template = \n",
    "    \"\"\"\n",
    "    Use the following piece of context to answer the question at the end. \n",
    "    Instruction: Stay loyal to the context as close as possible. Don't add your opinion. If the context is not enough to answer the question, state this.\n",
    "    Context: {context} \n",
    "    Question: {question}. \n",
    "    \n",
    "    \"\"\"\n",
    ")\n",
    " \n",
    "## Step 10: Define a chat model for response generation\n",
    "llm = ChatOpenAI(\n",
    "    openai_api_key = OPENAI_API_KEY,\n",
    "    model = \"gpt-4o-mini\",\n",
    "    temperature = 0,\n",
    ")\n"
   ],
   "id": "dc8ceb1f02b60f7e",
   "outputs": [],
   "execution_count": 23
  },
  {
   "metadata": {},
   "cell_type": "markdown",
   "source": "##### Steps 11-12: Creating the LCEL chain that integrates all into a runnable chain",
   "id": "7292d85f60b63f0c"
  },
  {
   "metadata": {
    "ExecuteTime": {
     "end_time": "2025-07-18T02:15:30.589718Z",
     "start_time": "2025-07-18T02:15:27.262499Z"
    }
   },
   "cell_type": "code",
   "source": [
    "## Step 11: Define the chain\n",
    "from langchain_core.runnables import RunnablePassthrough\n",
    " \n",
    "rag_chain = (\n",
    "    {\"question\": RunnablePassthrough(), \"context\": retriever}\n",
    "    | prompt_template \n",
    "    | llm \n",
    "   )\n",
    " \n",
    " ## Step 12: Invoke the chain with a suitable question\n",
    "response = rag_chain.invoke(\"What are the battery life specifications and charging capabilities of the Zonic Earbuds Pro, including quick charge features?\")\n",
    " \n",
    " \n",
    "## Print the response\n",
    "print(response.content)\n"
   ],
   "id": "97485c620010fced",
   "outputs": [
    {
     "name": "stdout",
     "output_type": "stream",
     "text": [
      "The battery life specifications and charging capabilities of the Zonic Earbuds Pro are as follows:\n",
      "\n",
      "- Battery Life (Earbuds): 8 hours\n",
      "- Battery Life (Case): 24 hours (additional)\n",
      "- Charging Time: \n",
      "  - Earbuds: 1.5 hours\n",
      "  - Case: 2 hours\n",
      "- Quick Charge: 10 minutes of charging provides 1 hour of playback.\n"
     ]
    }
   ],
   "execution_count": 25
  }
 ],
 "metadata": {
  "kernelspec": {
   "display_name": "Python 3",
   "language": "python",
   "name": "python3"
  },
  "language_info": {
   "codemirror_mode": {
    "name": "ipython",
    "version": 2
   },
   "file_extension": ".py",
   "mimetype": "text/x-python",
   "name": "python",
   "nbconvert_exporter": "python",
   "pygments_lexer": "ipython2",
   "version": "2.7.6"
  }
 },
 "nbformat": 4,
 "nbformat_minor": 5
}
