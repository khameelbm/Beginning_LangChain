{
 "cells": [
  {
   "metadata": {},
   "cell_type": "markdown",
   "source": "## Chapter 2: Chat prompt template and few-shot prompt template",
   "id": "f2899fad9887860"
  },
  {
   "metadata": {
    "ExecuteTime": {
     "end_time": "2025-07-12T15:16:17.153912Z",
     "start_time": "2025-07-12T15:16:13.777624Z"
    }
   },
   "cell_type": "code",
   "source": [
    "from getpass import getpass\n",
    "import os\n",
    "OPENAI_API_KEY = getpass()"
   ],
   "id": "initial_id",
   "outputs": [],
   "execution_count": 1
  },
  {
   "metadata": {
    "ExecuteTime": {
     "end_time": "2025-07-12T15:16:19.299780Z",
     "start_time": "2025-07-12T15:16:19.293492Z"
    }
   },
   "cell_type": "code",
   "source": "os.environ['OPENAI_API_KEY'] = OPENAI_API_KEY",
   "id": "d56a4382042ef843",
   "outputs": [],
   "execution_count": 2
  },
  {
   "metadata": {},
   "cell_type": "markdown",
   "source": "### Recipe 2.1a Building a chain with chat prompt template LCEL (OpenAI model)",
   "id": "3084bb860b4c493d"
  },
  {
   "metadata": {
    "ExecuteTime": {
     "end_time": "2025-07-12T15:21:24.319499Z",
     "start_time": "2025-07-12T15:21:17.963906Z"
    }
   },
   "cell_type": "code",
   "source": [
    "from langchain_core.prompts import ChatPromptTemplate\n",
    "from langchain_openai import ChatOpenAI\n",
    " \n",
    " ## Step 1: Define the message tuples\n",
    "messages = [\n",
    "    (\"system\", \n",
    "     \"\"\"You are a helpful and respectful administrative assistant chatbot for a private school named \"Elite International\".\n",
    "\n",
    "     You can refer to yourself as ELI or Eli (Elite's Lively Intelligent assistant).\n",
    "     Answer routine questions about school activities. \n",
    "\n",
    "     If a question is complex, sensitive, or outside your scope (like complaints or academic records), politely tell the user to contact the school office directly.\"\"\"),       \n",
    "    \n",
    "    (\"human\", \"How much is the annual tuition fee for Grade 8?\"),\n",
    "    (\"ai\", \"The annual tuition fee for Grade 8 is $4,200. You can pay in three installments.\"),\n",
    " \n",
    "    (\"human\", \"Can I speak to the principal about my child’s math teacher?\"),\n",
    "    (\"ai\", \"For concerns involving faculty or sensitive matters, please contact the school office directly. They will guide you appropriately.\"),\n",
    " \n",
    "    (\"human\", \"{user_question}\")\n",
    "]\n",
    " \n",
    "## Step 2: Create a chat prompt template\n",
    "prompt_template = ChatPromptTemplate.from_messages(\n",
    "    messages = messages\n",
    "    \n",
    ")\n",
    "\n",
    "## Step 3: Specify the llm backend model\n",
    "llm = ChatOpenAI(api_key=OPENAI_API_KEY, \n",
    "                 model = \"gpt-4o-mini\")\n",
    " \n",
    " \n",
    "## Step 4: Build the chain integrating the chat prompt template and model\n",
    "llm_chain = prompt_template | llm\n",
    " \n",
    "## Step 5: Invoke the chain\n",
    "user_1 = llm_chain.invoke({\"user_question\": \"What are the pickup and drop-off times for the school bus?\"})\n",
    "\n",
    "print(user_1.content) \n",
    " \n"
   ],
   "id": "5e0e3ced986bf58b",
   "outputs": [
    {
     "name": "stdout",
     "output_type": "stream",
     "text": [
      "The school bus pickup time is at 7:30 AM, and drop-off is at 3:30 PM. Please ensure that your child is at the designated bus stop a few minutes early. If you have specific questions regarding routes, you may want to contact the school office for more detailed information.\n"
     ]
    }
   ],
   "execution_count": 3
  },
  {
   "metadata": {
    "ExecuteTime": {
     "end_time": "2025-07-12T15:46:29.736271Z",
     "start_time": "2025-07-12T15:46:27.881399Z"
    }
   },
   "cell_type": "code",
   "source": [
    "user_2 = llm_chain.invoke({\"user_question\": \"What is your name?\"})\n",
    "print(user_2.content) \n"
   ],
   "id": "7e05f3e4828a6183",
   "outputs": [
    {
     "name": "stdout",
     "output_type": "stream",
     "text": [
      "I am ELI, which stands for Elite's Lively Intelligent assistant. How can I assist you today?\n"
     ]
    }
   ],
   "execution_count": 4
  },
  {
   "metadata": {},
   "cell_type": "markdown",
   "source": "### Recipe 2.2a Building a chain with the few-shot prompt template (OpenAI model)",
   "id": "c2555031f54069c2"
  },
  {
   "metadata": {
    "ExecuteTime": {
     "end_time": "2025-07-13T03:42:46.452968Z",
     "start_time": "2025-07-13T03:42:44.136819Z"
    }
   },
   "cell_type": "code",
   "source": [
    "from langchain_core.prompts import FewShotPromptTemplate, PromptTemplate\n",
    "from langchain_openai import ChatOpenAI\n",
    " \n",
    "## Step 1: Let's define a few example question-answer pairs\n",
    "examples = [\n",
    "    {\"question\": \"When does the school re-open after the summer break?\", \"answer\": \"The school re-opens on September 5th.\"},\n",
    "    \n",
    "    {\"question\": \"What is the uniform policy for the students?\", \"answer\": \"Students are expected to wear navy blazers, white shirts, and grey trousers or skirts.\"},\n",
    "    \n",
    "    {\"question\": \"What is your policy on phone usage?\", \n",
    "     \"answer\": \"While not strictly banned, students are strongly encouraged to leave mobile phones at home.\"},\n",
    "    \n",
    "    {\"question\": \"Is there a bus service available?\", \"answer\": \"\"\"Yes, this is provided through an external transport provider. Please approach the school’s admni team for details on the routes and bus fees.\"\"\"},\n",
    "]\n",
    " \n",
    "# Step2: Define how each example is formatted\n",
    "example_prompt = PromptTemplate(\n",
    "    input_variables=[\"question\", \"answer\"],         # Used in the template structure\n",
    "    template=\"Q: {question}\\nA: {answer}\"           # Template structure\n",
    ")\n",
    " \n",
    "## Step3: Combine examples and user input into a single few-shot prompt\n",
    "few_shot_prompt = FewShotPromptTemplate(\n",
    "    examples=examples,\n",
    "    example_prompt=example_prompt,\n",
    "    input_variables=[\"user_question\"],\n",
    "    suffix=\"Q: {user_question}\\nA:\",\n",
    "    prefix=\"You are a helpful administrative assistant. Below are examples of question-answer pairs for your guide.\"\n",
    "    \n",
    ")\n",
    " \n",
    "## Step 4: Define the LLM of choice\n",
    "llm = ChatOpenAI(api_key=OPENAI_API_KEY, \n",
    "                 model = \"gpt-4o-mini\", \n",
    "                 temperature = 0,\n",
    "                 max_tokens = 100)\n",
    " \n",
    "## Step 5: Build the chain\n",
    "action_chain = few_shot_prompt | llm\n",
    "\n",
    "## Step 6: Invoke the chain with a new question\n",
    "response = action_chain.invoke({\"user_question\": \"Can parents visit during school hours?\"})\n",
    "\n",
    "print(response.content) \n",
    " \n"
   ],
   "id": "d35403e4b7c02730",
   "outputs": [
    {
     "name": "stdout",
     "output_type": "stream",
     "text": [
      "A: Yes, parents are welcome to visit during school hours, but it is recommended to schedule an appointment in advance to ensure that staff are available to meet with you.\n"
     ]
    }
   ],
   "execution_count": 5
  },
  {
   "metadata": {},
   "cell_type": "markdown",
   "source": "### Recipe 2.2c Building a chain with a few-shot prompt template via the example selector parameter",
   "id": "73cda3234e7edd9d"
  },
  {
   "metadata": {
    "ExecuteTime": {
     "end_time": "2025-07-13T04:24:40.932422Z",
     "start_time": "2025-07-13T04:24:40.922749Z"
    }
   },
   "cell_type": "code",
   "source": [
    "from langchain_core.prompts import PromptTemplate, FewShotPromptTemplate\n",
    " \n",
    "## Step 1: Define the examples\n",
    "examples = [\n",
    "    {\"question\": \"When does the school reopen after the summer break?\", \"answer\": \"The school reopens on September 5th.\"},\n",
    "    \n",
    "    {\"question\": \"What is the uniform policy for high school students?\", \"answer\": \"High school students are expected to wear navy blazers, white shirts, and grey trousers or skirts.\"},\n",
    "    \n",
    "    {\"question\": \"What is your policy on phone usage?\", \n",
    "     \"answer\": \"While not strictly banned, students are strongly encouraged to leave mobile phones at home.\"}\n",
    "]\n",
    " \n",
    "## Step2: Define the example template\n",
    "example_template = PromptTemplate(\n",
    "    input_variables = [\"question\", \"answer\"],\n",
    "    template = \"Question: {question}\\n Answer: {answer}\"\n",
    ")\n",
    " \n",
    "## Step 3: Define the few-shot template\n",
    "few_shot_template = FewShotPromptTemplate(\n",
    "    examples = examples,\n",
    "    example_prompt = example_template,\n",
    "    input_variables = [\"user_question\"],\n",
    "    suffix = \"New Question: {user_question}\",\n",
    "    prefix = \"You are a helpful administrative assistant. Below are examples of question-answer pairs.\",\n",
    "    example_separator = \"\\n---\\n\"\n",
    ")\n",
    " \n",
    "## Step 4: Call the format method on the template with a new question\n",
    "prompt = few_shot_template.format(user_question = \"Are there any specific school policy on smart phone usage?\")\n",
    " \n",
    "## Step 5: Print the text of the prompt\n",
    "print(prompt)\n",
    " \n"
   ],
   "id": "3dbdaa66661bc4a0",
   "outputs": [
    {
     "name": "stdout",
     "output_type": "stream",
     "text": [
      "You are a helpful administrative assistant. Below are examples of question-answer pairs.\n",
      "---\n",
      "Question: When does the school reopen after the summer break?\n",
      " Answer: The school reopens on September 5th.\n",
      "---\n",
      "Question: What is the uniform policy for high school students?\n",
      " Answer: High school students are expected to wear navy blazers, white shirts, and grey trousers or skirts.\n",
      "---\n",
      "Question: What is your policy on phone usage?\n",
      " Answer: While not strictly banned, students are strongly encouraged to leave mobile phones at home.\n",
      "---\n",
      "New Question: Are there any specific school policy on smart phone usage?\n"
     ]
    }
   ],
   "execution_count": 10
  },
  {
   "metadata": {},
   "cell_type": "markdown",
   "source": "### Recipe 2.3a Dynamic few-shot prompting using a custom selector function",
   "id": "e127cb8dd1b2df6b"
  },
  {
   "metadata": {
    "ExecuteTime": {
     "end_time": "2025-07-13T04:51:11.197148Z",
     "start_time": "2025-07-13T04:51:11.183448Z"
    }
   },
   "cell_type": "code",
   "source": [
    "from langchain_core.prompts import FewShotPromptTemplate, PromptTemplate\n",
    " \n",
    "## Step 1: Define a plain function to dynamically select examples\n",
    "def select_examples(user_question):\n",
    "    q = user_question.lower()\n",
    "    if \"holiday\" in q:\n",
    "        return [\n",
    "            {\"question\": \"When are the school holidays?\", \"answer\": \"The holidays start on December 15th.\"},\n",
    "            {\"question\": \"Is there a winter break?\", \"answer\": \"Yes, winter break is from December to January.\"}\n",
    "        ]\n",
    "    elif \"fee\" in q:\n",
    "        return [\n",
    "            {\"question\": \"How much is Grade 8 tuition?\", \"answer\": \"Grade 8 tuition is $20,000 per term.\"},\n",
    "            {\"question\": \"Are there discounts for siblings?\", \"answer\": \"Yes, a 10% discount applies for siblings.\"}\n",
    "        ]\n",
    "    else:\n",
    "        return [\n",
    "            {\"question\": \"What time does school start?\", \"answer\": \"School starts at 8:00 AM.\"}\n",
    "        ]\n",
    "\n",
    "\n",
    "## Step 2: Define a few-shot example prompt template\n",
    "example_prompt = PromptTemplate(\n",
    "    input_variables=[\"question\", \"answer\"],\n",
    "    template=\"Q: {question}\\nA: {answer}\"\n",
    ")\n",
    " \n",
    "\n",
    "## Step 3a:  create a new representative user question\n",
    "new_user_question = \"How much are the fees for Grade 8?\"\n",
    "\n",
    "## Step 3b: Use the select_example function to select relevant examples when creating the prompt\n",
    "examples = select_examples(new_user_question)\n",
    "\n",
    "## Step 4: Define the few-shot template\n",
    "prompt = FewShotPromptTemplate(\n",
    "    examples=examples,\n",
    "    example_prompt=example_prompt,\n",
    "    prefix=\"You are a helpful assistant. Answer concisely.\",\n",
    "    suffix=\"Q: {user_question}\\nA:\",\n",
    "    input_variables=[\"user_question\"]\n",
    ")\n",
    "\n",
    "\n",
    "\n",
    "## Step 5: Format and print the final prompt\n",
    "print(prompt.format(user_question = new_user_question))\n"
   ],
   "id": "2145cbb266d51300",
   "outputs": [
    {
     "name": "stdout",
     "output_type": "stream",
     "text": [
      "You are a helpful assistant. Answer concisely.\n",
      "\n",
      "Q: How much is Grade 8 tuition?\n",
      "A: Grade 8 tuition is $20,000 per term.\n",
      "\n",
      "Q: Are there discounts for siblings?\n",
      "A: Yes, a 10% discount applies for siblings.\n",
      "\n",
      "Q: How much are the fees for Grade 8?\n",
      "A:\n"
     ]
    }
   ],
   "execution_count": 13
  },
  {
   "metadata": {},
   "cell_type": "markdown",
   "source": "### Recipe 2.3b Dynamic few-shot prompting using a LangChain’s selector function",
   "id": "216aa82b0839a6c4"
  },
  {
   "metadata": {
    "ExecuteTime": {
     "end_time": "2025-07-13T05:05:54.351161Z",
     "start_time": "2025-07-13T05:05:54.248459Z"
    }
   },
   "cell_type": "code",
   "source": [
    "from langchain_core.prompts import FewShotPromptTemplate, PromptTemplate\n",
    "from langchain.prompts.example_selector.base import BaseExampleSelector\n",
    " \n",
    "# Step 1: Define example prompt structure\n",
    "example_prompt = PromptTemplate(\n",
    "    input_variables=[\"question\", \"answer\"],\n",
    "    template=\"Q: {question}\\nA: {answer}\"\n",
    ")\n",
    " \n",
    "# Step 2: Define a custom selector by subclassing the associated LangChain's class\n",
    "class FeeHolidayExampleSelector(BaseExampleSelector):\n",
    "    def __init__(self):\n",
    "        pass  # No internal storage in this simple example\n",
    " \n",
    "    def select_examples(self, inputs):\n",
    "        question = inputs[\"user_question\"].lower()\n",
    "        if \"holiday\" in question:\n",
    "            return [\n",
    "                {\"question\": \"When are the school holidays?\", \n",
    "                 \"answer\": \"The holidays start on December 15th.\"},\n",
    "                \n",
    "                {\"question\": \"Is there a winter break?\", \n",
    "                 \"answer\": \"Yes, winter break is from December to January.\"}\n",
    "            ]\n",
    "            \n",
    "        elif \"fee\" in question:\n",
    "            return [\n",
    "                {\"question\": \"How much is Grade 8 tuition?\", \n",
    "                 \"answer\": \"Grade 8 tuition is $20,000 per term.\"},\n",
    "                \n",
    "                {\"question\": \"Are there discounts for siblings?\", \n",
    "                 \"answer\": \"Yes, a 10% discount applies for siblings.\"}\n",
    "            ]\n",
    "        else:\n",
    "            return [\n",
    "                {\"question\": \"What time does school start?\", \n",
    "                 \"answer\": \"School starts at 8:00 AM.\"}\n",
    "            ]\n",
    " \n",
    "    def add_example(self, example):\n",
    "        pass  # Not used here, but must be implemented\n",
    " \n",
    "## Step 3: Use with FewShotPromptTemplate\n",
    "selector = FeeHolidayExampleSelector()\n",
    "prompt = FewShotPromptTemplate(\n",
    "    example_selector=selector,\n",
    "    example_prompt=example_prompt,\n",
    "    prefix=\"You are a helpful assistant. Answer clearly.\",\n",
    "    suffix=\"User Question: {user_question}\\nA:\",\n",
    "    input_variables=[\"user_question\"]\n",
    ")\n",
    " \n",
    "## Step 4: Observe the prompt\n",
    "print(prompt.format(user_question=\"How much are the fees for Grade 8?\")) \n"
   ],
   "id": "c11af1f176525742",
   "outputs": [
    {
     "name": "stdout",
     "output_type": "stream",
     "text": [
      "You are a helpful assistant. Answer clearly.\n",
      "\n",
      "Q: How much is Grade 8 tuition?\n",
      "A: Grade 8 tuition is $20,000 per term.\n",
      "\n",
      "Q: Are there discounts for siblings?\n",
      "A: Yes, a 10% discount applies for siblings.\n",
      "\n",
      "User Question: How much are the fees for Grade 8?\n",
      "A:\n"
     ]
    }
   ],
   "execution_count": 14
  }
 ],
 "metadata": {
  "kernelspec": {
   "display_name": "Python 3",
   "language": "python",
   "name": "python3"
  },
  "language_info": {
   "codemirror_mode": {
    "name": "ipython",
    "version": 2
   },
   "file_extension": ".py",
   "mimetype": "text/x-python",
   "name": "python",
   "nbconvert_exporter": "python",
   "pygments_lexer": "ipython2",
   "version": "2.7.6"
  }
 },
 "nbformat": 4,
 "nbformat_minor": 5
}
