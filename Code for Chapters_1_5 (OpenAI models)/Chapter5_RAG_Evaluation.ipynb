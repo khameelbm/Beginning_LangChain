{
 "cells": [
  {
   "metadata": {},
   "cell_type": "markdown",
   "source": "### Chapter 5: RAG Evaluation",
   "id": "cfe44eeb01f7998"
  },
  {
   "metadata": {},
   "cell_type": "markdown",
   "source": "#### Load the OpenAI API key",
   "id": "1029b1b79e9bbb40"
  },
  {
   "metadata": {
    "ExecuteTime": {
     "end_time": "2025-07-19T05:17:00.507677Z",
     "start_time": "2025-07-19T05:16:47.508196Z"
    }
   },
   "cell_type": "code",
   "source": [
    "from getpass import getpass\n",
    "import os\n",
    "\n",
    "OPENAI_API_KEY = getpass()"
   ],
   "id": "7d2f42bf16c515c2",
   "outputs": [],
   "execution_count": 1
  },
  {
   "metadata": {
    "ExecuteTime": {
     "end_time": "2025-07-19T05:17:02.284656Z",
     "start_time": "2025-07-19T05:17:02.281453Z"
    }
   },
   "cell_type": "code",
   "source": "os.environ['OPENAI_API_KEY'] = OPENAI_API_KEY",
   "id": "475d728cb4152e2c",
   "outputs": [],
   "execution_count": 2
  },
  {
   "metadata": {},
   "cell_type": "markdown",
   "source": "### Recipe 5.1 String evaluator with an OpenAI model acting as a judge",
   "id": "4448005195b7053c"
  },
  {
   "metadata": {},
   "cell_type": "markdown",
   "source": "##### Segment 1: Set up the variables and the LLM model",
   "id": "e956ace6db72c1fd"
  },
  {
   "metadata": {
    "ExecuteTime": {
     "end_time": "2025-07-19T05:18:14.871633Z",
     "start_time": "2025-07-19T05:18:09.470053Z"
    }
   },
   "cell_type": "code",
   "source": [
    "from langchain_core.prompts import PromptTemplate\n",
    "from langchain_openai import ChatOpenAI\n",
    " \n",
    "## Step 1: Define the components \n",
    "query = \"What are the battery life specifications and charging capabilities of the Zonic Earbuds Pro, including quick charge features\"\n",
    " \n",
    "result = \"Battery Life: 8 hours per charge + 24 hours from case (32 hours total). Charging: 1.5 hours (earbuds), 2 hours (case). Quick Charge: 10 minutes = 1 hour playback.\"\n",
    " \n",
    "answer = \"\"\"\n",
    "The battery life specifications and charging capabilities of the Zonic Earbuds Pro are as follows:\n",
    " \n",
    "- Battery Life (Earbuds): 8 hours\n",
    "- Battery Life (Case): 24 hours (additional)\n",
    "- Charging Time: \n",
    "  - Earbuds: 1.5 hours\n",
    "  - Case: 2 hours\n",
    "- Quick Charge: 10 minutes of charging provides 1 hour of playback.\n",
    " \n",
    "\"\"\"\n",
    " \n",
    "## Step 2: Define the prompt template with instruction\n",
    "prompt_template = PromptTemplate.from_template(\n",
    "    input_variable = [\"result\", \"answer\", \"query\"],\n",
    "    template = \"\"\"You are an expert evaluator judging RAG system responses.\n",
    "    Question: {query}\n",
    "    RAG Response: {result}\n",
    "    Ground Truth: {answer}\n",
    " \n",
    "Evaluate based on accuracy, completeness, and hallucination.\n",
    " \n",
    "Respond with CORRECT or INCORRECT:\n",
    "Grade: \n",
    " \n",
    "\"\"\"\n",
    ")\n",
    " \n",
    " \n",
    "## Step 3: Specify the LLM\n",
    "judge_llm = ChatOpenAI(temperature=0, \n",
    "                      model=\"gpt-4o-mini\", api_key=OPENAI_API_KEY) \n"
   ],
   "id": "1c792847ed0d3541",
   "outputs": [],
   "execution_count": 3
  },
  {
   "metadata": {},
   "cell_type": "markdown",
   "source": "##### Segment 2: Instantiate the string evaluator",
   "id": "81efcd02985d37e1"
  },
  {
   "metadata": {
    "ExecuteTime": {
     "end_time": "2025-07-19T05:18:35.052023Z",
     "start_time": "2025-07-19T05:18:32.470110Z"
    }
   },
   "cell_type": "code",
   "source": [
    "from langsmith.evaluation import LangChainStringEvaluator\n",
    " \n",
    "## Step 4: Instantiate the evaluator\n",
    "questionAnswer_evaluator = LangChainStringEvaluator(\n",
    "    \"qa\",\n",
    "    config={\n",
    "        \"llm\": judge_llm,\n",
    "        \"prompt\": prompt_template\n",
    "    }\n",
    ")\n",
    " \n",
    "## Step 5: Call the evaluate string method\n",
    "score = questionAnswer_evaluator.evaluator.evaluate_strings(\n",
    "    \n",
    "        prediction = result,\n",
    "        reference = answer,\n",
    "        input =  query\n",
    "    \n",
    ")\n",
    " \n",
    "## Step 6: Print the score\n",
    "print(f\"Score: {score.values()}\")\n",
    "print(f\"Score: {score}\")\n"
   ],
   "id": "7fd98fdd62768c8d",
   "outputs": [
    {
     "name": "stdout",
     "output_type": "stream",
     "text": [
      "Score: dict_values(['CORRECT\\n\\nGrade: The RAG response accurately reflects the battery life specifications and charging capabilities of the Zonic Earbuds Pro as provided in the ground truth. There are no inaccuracies or hallucinations, and all relevant details are included.', 'CORRECT', 1])\n",
      "Score: {'reasoning': 'CORRECT\\n\\nGrade: The RAG response accurately reflects the battery life specifications and charging capabilities of the Zonic Earbuds Pro as provided in the ground truth. There are no inaccuracies or hallucinations, and all relevant details are included.', 'value': 'CORRECT', 'score': 1}\n"
     ]
    }
   ],
   "execution_count": 4
  },
  {
   "metadata": {},
   "cell_type": "markdown",
   "source": "### Recipe 5.2 Getting started with evaluating faithfulness with DeepEvals",
   "id": "6ff1917096427302"
  },
  {
   "metadata": {},
   "cell_type": "markdown",
   "source": "#### Complete RAG pipeline from Chapter 4",
   "id": "298dbec9c35d82aa"
  },
  {
   "metadata": {
    "ExecuteTime": {
     "end_time": "2025-07-19T22:49:08.135419Z",
     "start_time": "2025-07-19T22:49:07.421302Z"
    }
   },
   "cell_type": "code",
   "source": [
    "##### Document loading for building the knowledge base #####\n",
    "from langchain.document_loaders import DirectoryLoader, PyPDFLoader\n",
    "from langchain_text_splitters import RecursiveCharacterTextSplitter\n",
    " \n",
    "## Step 1: Define the path (a directory) that contains our files\n",
    "path = \"./rag_resources\"\n",
    " \n",
    "## Step 2: Instantiate the directory loader with the path defined above\n",
    "dir_loader = DirectoryLoader(path, glob=\"**/*.pdf\", \n",
    "                             loader_cls = PyPDFLoader,\n",
    "                             show_progress=True,\n",
    "                             loader_kwargs = {\"mode\":\"page\"}\n",
    "                            )\n",
    " \n",
    "## Step 3: Invoke the load method to load the files into memory\n",
    "dir_pdf_docs = dir_loader.load()\n",
    " \n",
    " \n",
    "# Step 4: Define a text splitter that splits recursively through the document loaded # into memory\n",
    "text_splitter = RecursiveCharacterTextSplitter(\n",
    "    separators = ['\\n\\n', '\\n', ' ', ''],\n",
    "    chunk_size=200,  \n",
    "    chunk_overlap=20,\n",
    "    length_function = len\n",
    ")\n",
    " \n",
    "# Step 5: Split the document using text_splitter\n",
    "doc_chunks = text_splitter.split_documents(dir_pdf_docs)\n"
   ],
   "id": "5da68aee97f83a1f",
   "outputs": [
    {
     "name": "stderr",
     "output_type": "stream",
     "text": [
      "100%|██████████| 3/3 [00:00<00:00,  4.26it/s]\n"
     ]
    }
   ],
   "execution_count": 30
  },
  {
   "metadata": {
    "ExecuteTime": {
     "end_time": "2025-07-19T22:49:16.328583Z",
     "start_time": "2025-07-19T22:49:12.692994Z"
    }
   },
   "cell_type": "code",
   "source": [
    "##### Vector store and retriever #####\n",
    "\n",
    "from langchain_openai import OpenAIEmbeddings\n",
    "from langchain_chroma import Chroma\n",
    " \n",
    "## Step 6: Specify an embedding model\n",
    "embedding_model = OpenAIEmbeddings(api_key = OPENAI_API_KEY,\n",
    "                                   model = \"text-embedding-3-small\")\n",
    " \n",
    "## Step 7: Create a Chroma instance and instantiate it with an embedding model and the document chunk\n",
    "vectore_store = Chroma.from_documents(\n",
    "    embedding = embedding_model,\n",
    "    documents = doc_chunks\n",
    "   \n",
    ")\n",
    "\n",
    "## Step 8: Transform the vectore store into a retriever\n",
    "retriever = vectore_store.as_retriever(\n",
    "    search_type = \"similarity\",\n",
    "    search_kwargs = {\"k\":2}\n",
    ")"
   ],
   "id": "a2f8ba655091e51",
   "outputs": [],
   "execution_count": 31
  },
  {
   "metadata": {
    "ExecuteTime": {
     "end_time": "2025-07-19T22:49:35.936927Z",
     "start_time": "2025-07-19T22:49:35.931550Z"
    }
   },
   "cell_type": "code",
   "source": [
    "##### Prompt template and setting up the generator component #####\n",
    "\n",
    "from langchain_openai import ChatOpenAI\n",
    "from langchain_core.prompts import ChatPromptTemplate\n",
    " \n",
    "\n",
    "## Step 9: Define a prompt template\n",
    "prompt_template = ChatPromptTemplate.from_template(\n",
    "    input_variable = [\"context\", \"question\"],\n",
    "    template = \n",
    "    \"\"\"\n",
    "    Use the following piece of context to answer the question at the end. \n",
    "    Instruction: Stay loyal to the context as close as possible. Don't add your opinion. If the context is not enough to answer the question, state this.\n",
    "    Context: {context} \n",
    "    Question: {question}. \n",
    "    \n",
    "    \"\"\"\n",
    ")\n",
    " \n",
    "## Step 10: Define a chat model for response generation\n",
    "llm = ChatOpenAI(\n",
    "    openai_api_key = OPENAI_API_KEY,\n",
    "    model = \"gpt-4o-mini\",\n",
    "    temperature = 0,\n",
    ")"
   ],
   "id": "ec669459dfb9817c",
   "outputs": [],
   "execution_count": 33
  },
  {
   "metadata": {
    "ExecuteTime": {
     "end_time": "2025-07-19T22:49:49.715274Z",
     "start_time": "2025-07-19T22:49:49.710935Z"
    }
   },
   "cell_type": "code",
   "source": [
    "#####   The RAG chain #####\n",
    "## Step 11: Define the chain\n",
    "from langchain_core.runnables import RunnablePassthrough\n",
    "\n",
    "rag_chain = (\n",
    "    {\"question\": RunnablePassthrough(), \"context\": retriever}\n",
    "    | prompt_template \n",
    "    | llm \n",
    "   )"
   ],
   "id": "9214577c2aa15185",
   "outputs": [],
   "execution_count": 34
  },
  {
   "metadata": {},
   "cell_type": "markdown",
   "source": "#### Evaluating faithfulness with DeepEvals",
   "id": "10e3d9f8bc565f8e"
  },
  {
   "metadata": {
    "ExecuteTime": {
     "end_time": "2025-07-19T07:48:12.531329Z",
     "start_time": "2025-07-19T07:47:56.110192Z"
    }
   },
   "cell_type": "code",
   "source": [
    "from deepeval.test_case import LLMTestCase\n",
    "from deepeval.evaluate import evaluate\n",
    "from deepeval.metrics import FaithfulnessMetric\n",
    "\n",
    "rag_output = \"\"\"\n",
    "The battery life specifications and charging capabilities of the Zonic Earbuds Pro are as follows:\n",
    "\n",
    "- Battery Life (Earbuds): 8 hours\n",
    "- Battery Life (Case): 24 hours (additional)\n",
    "- Charging Time: \n",
    "  - Earbuds: 1.5 hours\n",
    "  - Case: 2 hours\n",
    "- Quick Charge: 10 minutes of charging provides 1 hour of playback.\n",
    "\n",
    "\"\"\"\n",
    "\n",
    "answer = \"\"\"\n",
    "The battery life for the Zonic Earbuds Pro is 8 hours, and the battery life for the case is 24 hours (additional). The charging time for the earbuds is 1.5 hours, and the charging time for the case is 2 hours. The earbuds also have a quick charge feature where 10 minutes of charging provides 1 hour of playback. These specifications are provided in the context provided.\n",
    "\n",
    "\"\"\"\n",
    "\n",
    "query = \"What are the battery life specifications and charging capabilities of the Zonic Earbuds Pro, including quick charge features\"\n",
    "\n",
    "retrieved_chunks = [chunk.page_content for chunk in retriever.invoke(query)]\n",
    "\n",
    "test_case = LLMTestCase(\n",
    "    input = query,\n",
    "    actual_output = rag_output,\n",
    "    retrieval_context = retrieved_chunks\n",
    ")\n",
    "\n",
    "\n",
    "metric = FaithfulnessMetric(\n",
    "    threshold=0.7,\n",
    "    model=\"gpt-4o-mini\",\n",
    "    include_reason=False\n",
    ")\n",
    "\n",
    "evaluate(test_cases=[test_case], metrics=[metric])"
   ],
   "id": "453bf50db9418e85",
   "outputs": [
    {
     "data": {
      "text/plain": [
       "✨ You're running DeepEval's latest \u001B[38;2;106;0;255mFaithfulness Metric\u001B[0m! \u001B[1;38;2;55;65;81m(\u001B[0m\u001B[38;2;55;65;81musing gpt-4o-mini, \u001B[0m\u001B[38;2;55;65;81mstrict\u001B[0m\u001B[38;2;55;65;81m=\u001B[0m\u001B[3;38;2;55;65;81mFalse\u001B[0m\u001B[38;2;55;65;81m, \u001B[0m\u001B[38;2;55;65;81masync_mode\u001B[0m\u001B[38;2;55;65;81m=\u001B[0m\u001B[3;38;2;55;65;81mTrue\u001B[0m\u001B[1;38;2;55;65;81m)\u001B[0m\u001B[38;2;55;65;81m...\u001B[0m\n"
      ],
      "text/html": [
       "<pre style=\"white-space:pre;overflow-x:auto;line-height:normal;font-family:Menlo,'DejaVu Sans Mono',consolas,'Courier New',monospace\">✨ You're running DeepEval's latest <span style=\"color: #6a00ff; text-decoration-color: #6a00ff\">Faithfulness Metric</span>! <span style=\"color: #374151; text-decoration-color: #374151; font-weight: bold\">(</span><span style=\"color: #374151; text-decoration-color: #374151\">using gpt-4o-mini, </span><span style=\"color: #374151; text-decoration-color: #374151\">strict</span><span style=\"color: #374151; text-decoration-color: #374151\">=</span><span style=\"color: #374151; text-decoration-color: #374151; font-style: italic\">False</span><span style=\"color: #374151; text-decoration-color: #374151\">, </span><span style=\"color: #374151; text-decoration-color: #374151\">async_mode</span><span style=\"color: #374151; text-decoration-color: #374151\">=</span><span style=\"color: #374151; text-decoration-color: #374151; font-style: italic\">True</span><span style=\"color: #374151; text-decoration-color: #374151; font-weight: bold\">)</span><span style=\"color: #374151; text-decoration-color: #374151\">...</span>\n",
       "</pre>\n"
      ]
     },
     "metadata": {},
     "output_type": "display_data"
    },
    {
     "data": {
      "text/plain": [
       "Output()"
      ],
      "application/vnd.jupyter.widget-view+json": {
       "version_major": 2,
       "version_minor": 0,
       "model_id": "56687473937a45c18fabda839d6dd5f4"
      }
     },
     "metadata": {},
     "output_type": "display_data"
    },
    {
     "data": {
      "text/plain": [],
      "text/html": [
       "<pre style=\"white-space:pre;overflow-x:auto;line-height:normal;font-family:Menlo,'DejaVu Sans Mono',consolas,'Courier New',monospace\"></pre>\n"
      ]
     },
     "metadata": {},
     "output_type": "display_data"
    },
    {
     "name": "stdout",
     "output_type": "stream",
     "text": [
      "\n",
      "======================================================================\n",
      "\n",
      "Metrics Summary\n",
      "\n",
      "  - ✅ Faithfulness (score: 0.8, threshold: 0.7, strict: False, evaluation model: gpt-4o-mini, reason: None, error: None)\n",
      "\n",
      "For test case:\n",
      "\n",
      "  - input: What are the battery life specifications and charging capabilities of the Zonic Earbuds Pro, including quick charge features\n",
      "  - actual output: \n",
      "The battery life specifications and charging capabilities of the Zonic Earbuds Pro are as follows:\n",
      "\n",
      "- Battery Life (Earbuds): 8 hours\n",
      "- Battery Life (Case): 24 hours (additional)\n",
      "- Charging Time: \n",
      "  - Earbuds: 1.5 hours\n",
      "  - Case: 2 hours\n",
      "- Quick Charge: 10 minutes of charging provides 1 hour of playback.\n",
      "\n",
      "\n",
      "  - expected output: None\n",
      "  - context: None\n",
      "  - retrieval context: ['Product Specification Sheet – Zonic Earbuds Pro \\n \\nProduct Introduction \\nThe Zonic Earbuds Pro represent the next generation of true wireless audio for consumers \\nwho value performance, reliability, and convenience. Developed for busy professionals and', 'Battery Life (Earbuds) 8 hours \\nBattery Life (Case) 24 hours (additional) \\nCharging Time 1.5 hours (earbuds), 2 hours (case) \\nQuick Charge 10 min = 1 hour playback \\nWireless Range Up to 15 meters \\nBluetooth Version 5.2 \\nAudio Codecs SBC, AAC, aptX \\nWater Resistance IPX5 (splash, sweat proof)']\n",
      "\n",
      "======================================================================\n",
      "\n",
      "Overall Metric Pass Rates\n",
      "\n",
      "Faithfulness: 100.00% pass rate\n",
      "\n",
      "======================================================================\n",
      "\n"
     ]
    },
    {
     "data": {
      "text/plain": [
       "\n",
       "\u001B[38;2;5;245;141m✓\u001B[0m Tests finished 🎉! Run \u001B[1;32m'deepeval view'\u001B[0m to analyze, debug, and save evaluation results on \u001B[38;2;106;0;255mConfident AI\u001B[0m.\n",
       "\n"
      ],
      "text/html": [
       "<pre style=\"white-space:pre;overflow-x:auto;line-height:normal;font-family:Menlo,'DejaVu Sans Mono',consolas,'Courier New',monospace\">\n",
       "<span style=\"color: #05f58d; text-decoration-color: #05f58d\">✓</span> Tests finished 🎉! Run <span style=\"color: #008000; text-decoration-color: #008000; font-weight: bold\">'deepeval view'</span> to analyze, debug, and save evaluation results on <span style=\"color: #6a00ff; text-decoration-color: #6a00ff\">Confident AI</span>.\n",
       "\n",
       "</pre>\n"
      ]
     },
     "metadata": {},
     "output_type": "display_data"
    },
    {
     "data": {
      "text/plain": [
       "EvaluationResult(test_results=[TestResult(name='test_case_0', success=True, metrics_data=[MetricData(name='Faithfulness', threshold=0.7, success=True, score=0.8, reason=None, strict_mode=False, evaluation_model='gpt-4o-mini', error=None, evaluation_cost=0.0005141999999999999, verbose_logs='Truths (limit=None):\\n[\\n    \"The Zonic Earbuds Pro are true wireless audio devices.\",\\n    \"The Zonic Earbuds Pro are designed for busy professionals.\",\\n    \"The battery life of the earbuds is 8 hours.\",\\n    \"The battery life of the charging case is 24 hours.\",\\n    \"The charging time for the earbuds is 1.5 hours.\",\\n    \"The charging time for the case is 2 hours.\",\\n    \"A quick charge of 10 minutes provides 1 hour of playback.\",\\n    \"The wireless range of the Zonic Earbuds Pro is up to 15 meters.\",\\n    \"The Zonic Earbuds Pro use Bluetooth version 5.2.\",\\n    \"The audio codecs supported by the Zonic Earbuds Pro are SBC, AAC, and aptX.\",\\n    \"The Zonic Earbuds Pro have an IPX5 water resistance rating.\"\\n] \\n \\nClaims:\\n[\\n    \"The battery life of the Zonic Earbuds Pro is 8 hours.\",\\n    \"The battery life of the case for the Zonic Earbuds Pro is 24 hours additional.\",\\n    \"The charging time for the Zonic Earbuds Pro is 1.5 hours.\",\\n    \"The charging time for the case of the Zonic Earbuds Pro is 2 hours.\",\\n    \"10 minutes of charging the Zonic Earbuds Pro provides 1 hour of playback.\"\\n] \\n \\nVerdicts:\\n[\\n    {\\n        \"verdict\": \"yes\",\\n        \"reason\": null\\n    },\\n    {\\n        \"verdict\": \"no\",\\n        \"reason\": \"The actual output states the battery life of the case is 24 hours, not \\'24 hours additional\\'.\"\\n    },\\n    {\\n        \"verdict\": \"yes\",\\n        \"reason\": null\\n    },\\n    {\\n        \"verdict\": \"yes\",\\n        \"reason\": null\\n    },\\n    {\\n        \"verdict\": \"yes\",\\n        \"reason\": null\\n    }\\n]')], conversational=False, multimodal=False, input='What are the battery life specifications and charging capabilities of the Zonic Earbuds Pro, including quick charge features', actual_output='\\nThe battery life specifications and charging capabilities of the Zonic Earbuds Pro are as follows:\\n\\n- Battery Life (Earbuds): 8 hours\\n- Battery Life (Case): 24 hours (additional)\\n- Charging Time: \\n  - Earbuds: 1.5 hours\\n  - Case: 2 hours\\n- Quick Charge: 10 minutes of charging provides 1 hour of playback.\\n\\n', expected_output=None, context=None, retrieval_context=['Product Specification Sheet – Zonic Earbuds Pro \\n \\nProduct Introduction \\nThe Zonic Earbuds Pro represent the next generation of true wireless audio for consumers \\nwho value performance, reliability, and convenience. Developed for busy professionals and', 'Battery Life (Earbuds) 8 hours \\nBattery Life (Case) 24 hours (additional) \\nCharging Time 1.5 hours (earbuds), 2 hours (case) \\nQuick Charge 10 min = 1 hour playback \\nWireless Range Up to 15 meters \\nBluetooth Version 5.2 \\nAudio Codecs SBC, AAC, aptX \\nWater Resistance IPX5 (splash, sweat proof)'], additional_metadata=None)], confident_link=None)"
      ]
     },
     "execution_count": 10,
     "metadata": {},
     "output_type": "execute_result"
    }
   ],
   "execution_count": 10
  },
  {
   "metadata": {},
   "cell_type": "markdown",
   "source": "### Recipe 5.3 Evaluating multiple metrics on a combination of dataset with DeepEvals",
   "id": "7efc9848ca70ce64"
  },
  {
   "metadata": {},
   "cell_type": "markdown",
   "source": "##### Import the ground truth data",
   "id": "c474effcf8085698"
  },
  {
   "metadata": {
    "ExecuteTime": {
     "end_time": "2025-07-19T22:51:26.427463Z",
     "start_time": "2025-07-19T22:51:26.420258Z"
    }
   },
   "cell_type": "code",
   "source": [
    "import pandas as pd\n",
    "\n",
    "eval_data = pd.read_csv(\"./rag_resources/eval_qa.csv\",encoding=\"cp1252\")\n",
    "print(eval_data.head())\n",
    "questions = eval_data[\"question\"].tolist()\n",
    "answers = eval_data[\"answer\"].tolist()"
   ],
   "id": "bb2896539e17c226",
   "outputs": [
    {
     "name": "stdout",
     "output_type": "stream",
     "text": [
      "                                            question  \\\n",
      "0  What are the battery life and charging specs o...   \n",
      "1  How do I claim warranty for Bluetooth issues a...   \n",
      "2           How do I return defective earbuds (RMA)?   \n",
      "\n",
      "                                              answer  \n",
      "0  Battery: 8 hrs + 24 hrs (case). Charging: 1.5 ...  \n",
      "1  Coverage: 12-month warranty. Docs Needed: Rece...  \n",
      "2  Steps: (1) Request RMA at zonic-support.com/rm...  \n"
     ]
    }
   ],
   "execution_count": 37
  },
  {
   "metadata": {
    "ExecuteTime": {
     "end_time": "2025-07-19T22:51:29.575406Z",
     "start_time": "2025-07-19T22:51:29.571693Z"
    }
   },
   "cell_type": "code",
   "source": "print(questions)",
   "id": "7d6d954a95865229",
   "outputs": [
    {
     "name": "stdout",
     "output_type": "stream",
     "text": [
      "['What are the battery life and charging specs of the Zonic Earbuds Pro?', 'How do I claim warranty for Bluetooth issues after 8 months?']\n"
     ]
    }
   ],
   "execution_count": 38
  },
  {
   "metadata": {},
   "cell_type": "markdown",
   "source": [
    "##### Invoke the RAG chain with the questions\n",
    "\n",
    "    > NOTE: Ensure you run the complete RAG pipeline under Recipe 5.2 above before the sections below"
   ],
   "id": "57c9c5f1d89434a"
  },
  {
   "metadata": {
    "ExecuteTime": {
     "end_time": "2025-07-19T07:56:57.151697Z",
     "start_time": "2025-07-19T07:56:54.300024Z"
    }
   },
   "cell_type": "code",
   "source": [
    "## Step 2: Invoke the chain with the questions via the .batch() method\n",
    "batch_responses =  rag_chain.batch(questions)"
   ],
   "id": "209afd59c8bd3403",
   "outputs": [],
   "execution_count": 14
  },
  {
   "metadata": {
    "ExecuteTime": {
     "end_time": "2025-07-19T07:57:00.220586Z",
     "start_time": "2025-07-19T07:56:59.080076Z"
    }
   },
   "cell_type": "code",
   "source": [
    "## Step 3: Invoke the retrieved chunks via the .batch() method\n",
    "batch_retrieved_chunks = retriever.batch(questions)"
   ],
   "id": "cb0976e067c1ba2e",
   "outputs": [],
   "execution_count": 15
  },
  {
   "metadata": {
    "ExecuteTime": {
     "end_time": "2025-07-19T22:51:35.511648Z",
     "start_time": "2025-07-19T22:51:35.507553Z"
    }
   },
   "cell_type": "code",
   "source": [
    "## Step 4: Bundle the batched responses from our LLM into a list\n",
    "rag_responses = [response.content for response in batch_responses]\n",
    "\n",
    "## Step 5: Bundle the retrieved context for each query into another list of list\n",
    "retrieval_contexts = [[chunk.page_content for chunk in retrieved_chunks] for retrieved_chunks in batch_retrieved_chunks]\n"
   ],
   "id": "1510cbbf48ca75bb",
   "outputs": [],
   "execution_count": 39
  },
  {
   "metadata": {},
   "cell_type": "markdown",
   "source": "##### Specifying the ingredients for DeepEval",
   "id": "1429d21d9f9c9ab8"
  },
  {
   "metadata": {
    "ExecuteTime": {
     "end_time": "2025-07-19T08:09:21.708060Z",
     "start_time": "2025-07-19T08:09:21.702644Z"
    }
   },
   "cell_type": "code",
   "source": [
    "\n",
    "from deepeval.test_case import LLMTestCase\n",
    "from deepeval.evaluate import evaluate\n",
    "from deepeval.dataset import EvaluationDataset\n",
    "\n",
    "from deepeval.metrics import (\n",
    "    ContextualPrecisionMetric,\n",
    "    ContextualRecallMetric\n",
    ")\n",
    "\n",
    "## Step 6: Compile our test cases\n",
    "test_cases = [\n",
    "    LLMTestCase(\n",
    "        input=q,\n",
    "        actual_output=r,\n",
    "        expected_output=a,\n",
    "        retrieval_context = rc\n",
    "        \n",
    "    )\n",
    "    for q, a, r, rc in zip(questions, answers, rag_responses, retrieval_contexts)\n",
    "]\n",
    "\n",
    "## Step 7: Bundle the test cases into an instance of the EvaluationDataset class\n",
    "dataset = EvaluationDataset()\n",
    "dataset.test_cases = test_cases"
   ],
   "id": "ee54a72320094648",
   "outputs": [],
   "execution_count": 23
  },
  {
   "metadata": {
    "ExecuteTime": {
     "end_time": "2025-07-19T08:08:06.775863Z",
     "start_time": "2025-07-19T08:08:06.773299Z"
    }
   },
   "cell_type": "code",
   "source": "",
   "id": "30d0be8ef5742134",
   "outputs": [],
   "execution_count": 21
  },
  {
   "metadata": {
    "ExecuteTime": {
     "end_time": "2025-07-19T08:08:26.861931Z",
     "start_time": "2025-07-19T08:08:13.586743Z"
    }
   },
   "cell_type": "code",
   "source": [
    "## Step 8: Define the parameters for the precision metrics\n",
    "precision_metric = ContextualPrecisionMetric(\n",
    "    threshold=0.7,\n",
    "    model=\"gpt-4o-mini\",\n",
    "    include_reason=False\n",
    ")\n",
    "\n",
    "## Step 9: Define the parameter for the recall metrics\n",
    "recall_metric = ContextualRecallMetric(\n",
    "    threshold=0.7,\n",
    "    model=\"gpt-4o-mini\",\n",
    "    include_reason=False\n",
    ")\n",
    "\n",
    "\n",
    "## Step 10: Execute the test by calling evaluate on the dataset.\n",
    "evaluation_output = dataset.evaluate([precision_metric, recall_metric])"
   ],
   "id": "156a378c7586a30f",
   "outputs": [
    {
     "data": {
      "text/plain": [
       "✨ You're running DeepEval's latest \u001B[38;2;106;0;255mContextual Precision Metric\u001B[0m! \u001B[1;38;2;55;65;81m(\u001B[0m\u001B[38;2;55;65;81musing gpt-4o-mini, \u001B[0m\u001B[38;2;55;65;81mstrict\u001B[0m\u001B[38;2;55;65;81m=\u001B[0m\u001B[3;38;2;55;65;81mFalse\u001B[0m\u001B[38;2;55;65;81m, \u001B[0m\n",
       "\u001B[38;2;55;65;81masync_mode\u001B[0m\u001B[38;2;55;65;81m=\u001B[0m\u001B[3;38;2;55;65;81mTrue\u001B[0m\u001B[1;38;2;55;65;81m)\u001B[0m\u001B[38;2;55;65;81m...\u001B[0m\n"
      ],
      "text/html": [
       "<pre style=\"white-space:pre;overflow-x:auto;line-height:normal;font-family:Menlo,'DejaVu Sans Mono',consolas,'Courier New',monospace\">✨ You're running DeepEval's latest <span style=\"color: #6a00ff; text-decoration-color: #6a00ff\">Contextual Precision Metric</span>! <span style=\"color: #374151; text-decoration-color: #374151; font-weight: bold\">(</span><span style=\"color: #374151; text-decoration-color: #374151\">using gpt-4o-mini, </span><span style=\"color: #374151; text-decoration-color: #374151\">strict</span><span style=\"color: #374151; text-decoration-color: #374151\">=</span><span style=\"color: #374151; text-decoration-color: #374151; font-style: italic\">False</span><span style=\"color: #374151; text-decoration-color: #374151\">, </span>\n",
       "<span style=\"color: #374151; text-decoration-color: #374151\">async_mode</span><span style=\"color: #374151; text-decoration-color: #374151\">=</span><span style=\"color: #374151; text-decoration-color: #374151; font-style: italic\">True</span><span style=\"color: #374151; text-decoration-color: #374151; font-weight: bold\">)</span><span style=\"color: #374151; text-decoration-color: #374151\">...</span>\n",
       "</pre>\n"
      ]
     },
     "metadata": {},
     "output_type": "display_data"
    },
    {
     "data": {
      "text/plain": [
       "✨ You're running DeepEval's latest \u001B[38;2;106;0;255mContextual Recall Metric\u001B[0m! \u001B[1;38;2;55;65;81m(\u001B[0m\u001B[38;2;55;65;81musing gpt-4o-mini, \u001B[0m\u001B[38;2;55;65;81mstrict\u001B[0m\u001B[38;2;55;65;81m=\u001B[0m\u001B[3;38;2;55;65;81mFalse\u001B[0m\u001B[38;2;55;65;81m, \u001B[0m\u001B[38;2;55;65;81masync_mode\u001B[0m\u001B[38;2;55;65;81m=\u001B[0m\u001B[3;38;2;55;65;81mTrue\u001B[0m\u001B[1;38;2;55;65;81m)\u001B[0m\u001B[38;2;55;65;81m...\u001B[0m\n"
      ],
      "text/html": [
       "<pre style=\"white-space:pre;overflow-x:auto;line-height:normal;font-family:Menlo,'DejaVu Sans Mono',consolas,'Courier New',monospace\">✨ You're running DeepEval's latest <span style=\"color: #6a00ff; text-decoration-color: #6a00ff\">Contextual Recall Metric</span>! <span style=\"color: #374151; text-decoration-color: #374151; font-weight: bold\">(</span><span style=\"color: #374151; text-decoration-color: #374151\">using gpt-4o-mini, </span><span style=\"color: #374151; text-decoration-color: #374151\">strict</span><span style=\"color: #374151; text-decoration-color: #374151\">=</span><span style=\"color: #374151; text-decoration-color: #374151; font-style: italic\">False</span><span style=\"color: #374151; text-decoration-color: #374151\">, </span><span style=\"color: #374151; text-decoration-color: #374151\">async_mode</span><span style=\"color: #374151; text-decoration-color: #374151\">=</span><span style=\"color: #374151; text-decoration-color: #374151; font-style: italic\">True</span><span style=\"color: #374151; text-decoration-color: #374151; font-weight: bold\">)</span><span style=\"color: #374151; text-decoration-color: #374151\">...</span>\n",
       "</pre>\n"
      ]
     },
     "metadata": {},
     "output_type": "display_data"
    },
    {
     "data": {
      "text/plain": [
       "Output()"
      ],
      "application/vnd.jupyter.widget-view+json": {
       "version_major": 2,
       "version_minor": 0,
       "model_id": "e703d63ad99849628e579ebfcd1bf4b9"
      }
     },
     "metadata": {},
     "output_type": "display_data"
    },
    {
     "data": {
      "text/plain": [],
      "text/html": [
       "<pre style=\"white-space:pre;overflow-x:auto;line-height:normal;font-family:Menlo,'DejaVu Sans Mono',consolas,'Courier New',monospace\"></pre>\n"
      ]
     },
     "metadata": {},
     "output_type": "display_data"
    },
    {
     "name": "stdout",
     "output_type": "stream",
     "text": [
      "\n",
      "======================================================================\n",
      "\n",
      "Metrics Summary\n",
      "\n",
      "  - ❌ Contextual Precision (score: 0.0, threshold: 0.7, strict: False, evaluation model: gpt-4o-mini, reason: None, error: None)\n",
      "  - ❌ Contextual Recall (score: 0.0, threshold: 0.7, strict: False, evaluation model: gpt-4o-mini, reason: None, error: None)\n",
      "\n",
      "For test case:\n",
      "\n",
      "  - input: How do I claim warranty for Bluetooth issues after 8 months?\n",
      "  - actual output: The provided context does not contain information on how to claim warranty for Bluetooth issues after 8 months. Therefore, I cannot answer the question.\n",
      "  - expected output: Coverage: 12-month warranty. Docs Needed: Receipt, serial no., issue description, contact. Steps: Submit form at zonic-support.com/warranty; wait 3 business days. Timeline: 7–14 days post-receipt.\n",
      "  - context: None\n",
      "  - retrieval context: ['●  Faulty  Bluetooth  connectivity  or  hardware  integration  ●  Manufacturing  defects  not  resulting  from  improper  usage  \\nWhat  is  Not  Covered  \\nThis  warranty  does  not  apply  in  the  following  cases:', 'jurisdiction.\\n ●  For  commercial,  business,  or  wholesale  customers,  separate  warranty  agreements  may  \\napply.\\n \\n \\n12.  Example  Scenarios  \\nCovered  ✔  Earbud  stops  charging  within  warranty  period  with  no  exterior  damage.  ✔  \\nPersistent\\n \\nBluetooth\\n \\ndisconnection\\n \\nafter']\n",
      "\n",
      "======================================================================\n",
      "\n",
      "Overall Metric Pass Rates\n",
      "\n",
      "Contextual Precision: 66.67% pass rate\n",
      "Contextual Recall: 0.00% pass rate\n",
      "\n",
      "======================================================================\n",
      "\n",
      "\n",
      "======================================================================\n",
      "\n",
      "Metrics Summary\n",
      "\n",
      "  - ✅ Contextual Precision (score: 1.0, threshold: 0.7, strict: False, evaluation model: gpt-4o-mini, reason: None, error: None)\n",
      "  - ❌ Contextual Recall (score: 0.4444444444444444, threshold: 0.7, strict: False, evaluation model: gpt-4o-mini, reason: None, error: None)\n",
      "\n",
      "For test case:\n",
      "\n",
      "  - input: How do I return defective earbuds (RMA)?\n",
      "  - actual output: The context provided does not contain specific instructions on how to return defective earbuds (RMA). It only outlines general steps related to the RMA process, such as generating a unique RMA number, emailing instructions to the customer, and shipping the item with the RMA number marked on the label. For detailed instructions on returning defective earbuds, additional information would be needed.\n",
      "  - expected output: Steps: (1) Request RMA at zonic-support.com/rma, (2) get RMA number, (3) ship item (14-day window), (4) inspection (3 days), (5) repair/replace, (6) ship back, (7) close case. Timeline: ~10 business days. Escalation: rma.supervisor@zonic-support.com.\n",
      "  - context: None\n",
      "  - retrieval context: ['• Upon eligibility confirmation, Support Agent generates a unique RMA number via the \\nCRM system. \\n• Email RMA instructions to customer, including packaging requirements, shipping \\naddress, and deadline (typically 14 days). \\n5.4. Product Return', '• Customer ships the item, ensuring the RMA number is clearly marked on the label. \\n• Received items are logged into the warehouse inventory system under their RMA \\nnumber. \\n5.5. Product Assessment \\n• Warehouse team inspects returned products for physical damage, accessories, and']\n",
      "\n",
      "======================================================================\n",
      "\n",
      "Overall Metric Pass Rates\n",
      "\n",
      "Contextual Precision: 66.67% pass rate\n",
      "Contextual Recall: 0.00% pass rate\n",
      "\n",
      "======================================================================\n",
      "\n",
      "\n",
      "======================================================================\n",
      "\n",
      "Metrics Summary\n",
      "\n",
      "  - ✅ Contextual Precision (score: 1.0, threshold: 0.7, strict: False, evaluation model: gpt-4o-mini, reason: None, error: None)\n",
      "  - ❌ Contextual Recall (score: 0.38461538461538464, threshold: 0.7, strict: False, evaluation model: gpt-4o-mini, reason: None, error: None)\n",
      "\n",
      "For test case:\n",
      "\n",
      "  - input: What are the battery life and charging specs of the Zonic Earbuds Pro?\n",
      "  - actual output: The battery life and charging specifications of the Zonic Earbuds Pro are as follows:\n",
      "\n",
      "- Battery Life (Earbuds): 8 hours\n",
      "- Battery Life (Case): 24 hours (additional)\n",
      "- Charging Time: 1.5 hours (earbuds), 2 hours (case)\n",
      "- Quick Charge: 10 minutes = 1 hour playback\n",
      "  - expected output: Battery: 8 hrs + 24 hrs (case). Charging: 1.5 hrs (buds), 2 hrs (case). Quick Charge: 10 min = 1 hr playback. Options: USB-C, Qi wireless.\n",
      "  - context: None\n",
      "  - retrieval context: ['Battery Life (Earbuds) 8 hours \\nBattery Life (Case) 24 hours (additional) \\nCharging Time 1.5 hours (earbuds), 2 hours (case) \\nQuick Charge 10 min = 1 hour playback \\nWireless Range Up to 15 meters \\nBluetooth Version 5.2 \\nAudio Codecs SBC, AAC, aptX \\nWater Resistance IPX5 (splash, sweat proof)', 'Product Specification Sheet – Zonic Earbuds Pro \\n \\nProduct Introduction \\nThe Zonic Earbuds Pro represent the next generation of true wireless audio for consumers \\nwho value performance, reliability, and convenience. Developed for busy professionals and']\n",
      "\n",
      "======================================================================\n",
      "\n",
      "Overall Metric Pass Rates\n",
      "\n",
      "Contextual Precision: 66.67% pass rate\n",
      "Contextual Recall: 0.00% pass rate\n",
      "\n",
      "======================================================================\n",
      "\n"
     ]
    },
    {
     "data": {
      "text/plain": [
       "\n",
       "\u001B[38;2;5;245;141m✓\u001B[0m Tests finished 🎉! Run \u001B[1;32m'deepeval view'\u001B[0m to analyze, debug, and save evaluation results on \u001B[38;2;106;0;255mConfident AI\u001B[0m.\n",
       "\n"
      ],
      "text/html": [
       "<pre style=\"white-space:pre;overflow-x:auto;line-height:normal;font-family:Menlo,'DejaVu Sans Mono',consolas,'Courier New',monospace\">\n",
       "<span style=\"color: #05f58d; text-decoration-color: #05f58d\">✓</span> Tests finished 🎉! Run <span style=\"color: #008000; text-decoration-color: #008000; font-weight: bold\">'deepeval view'</span> to analyze, debug, and save evaluation results on <span style=\"color: #6a00ff; text-decoration-color: #6a00ff\">Confident AI</span>.\n",
       "\n",
       "</pre>\n"
      ]
     },
     "metadata": {},
     "output_type": "display_data"
    }
   ],
   "execution_count": 22
  },
  {
   "metadata": {
    "ExecuteTime": {
     "end_time": "2025-07-02T14:11:13.964949Z",
     "start_time": "2025-07-02T14:11:05.130098Z"
    }
   },
   "cell_type": "code",
   "source": "",
   "id": "bc78d98425aeefc1",
   "outputs": [
    {
     "data": {
      "text/plain": [
       "✨ You're running DeepEval's latest \u001B[38;2;106;0;255mContextual Precision Metric\u001B[0m! \u001B[1;38;2;55;65;81m(\u001B[0m\u001B[38;2;55;65;81musing gpt-4o-mini, \u001B[0m\u001B[38;2;55;65;81mstrict\u001B[0m\u001B[38;2;55;65;81m=\u001B[0m\u001B[3;38;2;55;65;81mFalse\u001B[0m\u001B[38;2;55;65;81m, \u001B[0m\n",
       "\u001B[38;2;55;65;81masync_mode\u001B[0m\u001B[38;2;55;65;81m=\u001B[0m\u001B[3;38;2;55;65;81mTrue\u001B[0m\u001B[1;38;2;55;65;81m)\u001B[0m\u001B[38;2;55;65;81m...\u001B[0m\n"
      ],
      "text/html": [
       "<pre style=\"white-space:pre;overflow-x:auto;line-height:normal;font-family:Menlo,'DejaVu Sans Mono',consolas,'Courier New',monospace\">✨ You're running DeepEval's latest <span style=\"color: #6a00ff; text-decoration-color: #6a00ff\">Contextual Precision Metric</span>! <span style=\"color: #374151; text-decoration-color: #374151; font-weight: bold\">(</span><span style=\"color: #374151; text-decoration-color: #374151\">using gpt-4o-mini, </span><span style=\"color: #374151; text-decoration-color: #374151\">strict</span><span style=\"color: #374151; text-decoration-color: #374151\">=</span><span style=\"color: #374151; text-decoration-color: #374151; font-style: italic\">False</span><span style=\"color: #374151; text-decoration-color: #374151\">, </span>\n",
       "<span style=\"color: #374151; text-decoration-color: #374151\">async_mode</span><span style=\"color: #374151; text-decoration-color: #374151\">=</span><span style=\"color: #374151; text-decoration-color: #374151; font-style: italic\">True</span><span style=\"color: #374151; text-decoration-color: #374151; font-weight: bold\">)</span><span style=\"color: #374151; text-decoration-color: #374151\">...</span>\n",
       "</pre>\n"
      ]
     },
     "metadata": {},
     "output_type": "display_data"
    },
    {
     "data": {
      "text/plain": [
       "✨ You're running DeepEval's latest \u001B[38;2;106;0;255mContextual Recall Metric\u001B[0m! \u001B[1;38;2;55;65;81m(\u001B[0m\u001B[38;2;55;65;81musing gpt-4o-mini, \u001B[0m\u001B[38;2;55;65;81mstrict\u001B[0m\u001B[38;2;55;65;81m=\u001B[0m\u001B[3;38;2;55;65;81mFalse\u001B[0m\u001B[38;2;55;65;81m, \u001B[0m\u001B[38;2;55;65;81masync_mode\u001B[0m\u001B[38;2;55;65;81m=\u001B[0m\u001B[3;38;2;55;65;81mTrue\u001B[0m\u001B[1;38;2;55;65;81m)\u001B[0m\u001B[38;2;55;65;81m...\u001B[0m\n"
      ],
      "text/html": [
       "<pre style=\"white-space:pre;overflow-x:auto;line-height:normal;font-family:Menlo,'DejaVu Sans Mono',consolas,'Courier New',monospace\">✨ You're running DeepEval's latest <span style=\"color: #6a00ff; text-decoration-color: #6a00ff\">Contextual Recall Metric</span>! <span style=\"color: #374151; text-decoration-color: #374151; font-weight: bold\">(</span><span style=\"color: #374151; text-decoration-color: #374151\">using gpt-4o-mini, </span><span style=\"color: #374151; text-decoration-color: #374151\">strict</span><span style=\"color: #374151; text-decoration-color: #374151\">=</span><span style=\"color: #374151; text-decoration-color: #374151; font-style: italic\">False</span><span style=\"color: #374151; text-decoration-color: #374151\">, </span><span style=\"color: #374151; text-decoration-color: #374151\">async_mode</span><span style=\"color: #374151; text-decoration-color: #374151\">=</span><span style=\"color: #374151; text-decoration-color: #374151; font-style: italic\">True</span><span style=\"color: #374151; text-decoration-color: #374151; font-weight: bold\">)</span><span style=\"color: #374151; text-decoration-color: #374151\">...</span>\n",
       "</pre>\n"
      ]
     },
     "metadata": {},
     "output_type": "display_data"
    },
    {
     "data": {
      "text/plain": [
       "Output()"
      ],
      "application/vnd.jupyter.widget-view+json": {
       "version_major": 2,
       "version_minor": 0,
       "model_id": "d3f55cf55c354f5eb4c9226b840c7a51"
      }
     },
     "metadata": {},
     "output_type": "display_data"
    },
    {
     "data": {
      "text/plain": [],
      "text/html": [
       "<pre style=\"white-space:pre;overflow-x:auto;line-height:normal;font-family:Menlo,'DejaVu Sans Mono',consolas,'Courier New',monospace\"></pre>\n"
      ]
     },
     "metadata": {},
     "output_type": "display_data"
    },
    {
     "name": "stdout",
     "output_type": "stream",
     "text": [
      "\n",
      "======================================================================\n",
      "\n",
      "Metrics Summary\n",
      "\n",
      "  - ✅ Contextual Precision (score: 1.0, threshold: 0.7, strict: False, evaluation model: gpt-4o-mini, reason: None, error: None)\n",
      "  - ✅ Contextual Recall (score: 0.8333333333333334, threshold: 0.7, strict: False, evaluation model: gpt-4o-mini, reason: None, error: None)\n",
      "\n",
      "For test case:\n",
      "\n",
      "  - input: What are the battery life and charging specs of the Zonic Earbuds Pro?\n",
      "  - actual output: The battery life and charging specifications of the Zonic Earbuds Pro are as follows:\n",
      "\n",
      "- Battery Life (Earbuds): 8 hours\n",
      "- Battery Life (Case): 24 hours (additional)\n",
      "- Charging Time: 1.5 hours (earbuds), 2 hours (case)\n",
      "- Quick Charge: 10 minutes = 1 hour playback\n",
      "  - expected output: Battery: 8 hrs + 24 hrs (case). Charging: 1.5 hrs (buds), 2 hrs (case). Quick Charge: 10 min = 1 hr playback. Options: USB-C, Qi wireless.\n",
      "  - context: None\n",
      "  - retrieval context: ['Battery Life (Earbuds) 8 hours \\nBattery Life (Case) 24 hours (additional) \\nCharging Time 1.5 hours (earbuds), 2 hours (case) \\nQuick Charge 10 min = 1 hour playback \\nWireless Range Up to 15 meters \\nBluetooth Version 5.2 \\nAudio Codecs SBC, AAC, aptX \\nWater Resistance IPX5 (splash, sweat proof)', 'Product Specification Sheet – Zonic Earbuds Pro \\n \\nProduct Introduction \\nThe Zonic Earbuds Pro represent the next generation of true wireless audio for consumers \\nwho value performance, reliability, and convenience. Developed for busy professionals and']\n",
      "\n",
      "======================================================================\n",
      "\n",
      "Overall Metric Pass Rates\n",
      "\n",
      "Contextual Precision: 66.67% pass rate\n",
      "Contextual Recall: 33.33% pass rate\n",
      "\n",
      "======================================================================\n",
      "\n",
      "\n",
      "======================================================================\n",
      "\n",
      "Metrics Summary\n",
      "\n",
      "  - ❌ Contextual Precision (score: 0.0, threshold: 0.7, strict: False, evaluation model: gpt-4o-mini, reason: None, error: None)\n",
      "  - ❌ Contextual Recall (score: 0.0, threshold: 0.7, strict: False, evaluation model: gpt-4o-mini, reason: None, error: None)\n",
      "\n",
      "For test case:\n",
      "\n",
      "  - input: How do I claim warranty for Bluetooth issues after 8 months?\n",
      "  - actual output: The provided context does not contain information on how to claim warranty for Bluetooth issues after 8 months. Therefore, I cannot answer the question.\n",
      "  - expected output: Coverage: 12-month warranty. Docs Needed: Receipt, serial no., issue description, contact. Steps: Submit form at zonic-support.com/warranty; wait 3 business days. Timeline: 7–14 days post-receipt.\n",
      "  - context: None\n",
      "  - retrieval context: ['●  Faulty  Bluetooth  connectivity  or  hardware  integration  ●  Manufacturing  defects  not  resulting  from  improper  usage  \\nWhat  is  Not  Covered  \\nThis  warranty  does  not  apply  in  the  following  cases:', 'jurisdiction.\\n ●  For  commercial,  business,  or  wholesale  customers,  separate  warranty  agreements  may  \\napply.\\n \\n \\n12.  Example  Scenarios  \\nCovered  ✔  Earbud  stops  charging  within  warranty  period  with  no  exterior  damage.  ✔  \\nPersistent\\n \\nBluetooth\\n \\ndisconnection\\n \\nafter']\n",
      "\n",
      "======================================================================\n",
      "\n",
      "Overall Metric Pass Rates\n",
      "\n",
      "Contextual Precision: 66.67% pass rate\n",
      "Contextual Recall: 33.33% pass rate\n",
      "\n",
      "======================================================================\n",
      "\n",
      "\n",
      "======================================================================\n",
      "\n",
      "Metrics Summary\n",
      "\n",
      "  - ✅ Contextual Precision (score: 1.0, threshold: 0.7, strict: False, evaluation model: gpt-4o-mini, reason: None, error: None)\n",
      "  - ❌ Contextual Recall (score: 0.4444444444444444, threshold: 0.7, strict: False, evaluation model: gpt-4o-mini, reason: None, error: None)\n",
      "\n",
      "For test case:\n",
      "\n",
      "  - input: How do I return defective earbuds (RMA)?\n",
      "  - actual output: The context provided does not contain specific instructions on how to return defective earbuds (RMA). It only outlines general steps related to the RMA process, such as generating a unique RMA number, emailing instructions to the customer, and shipping the item. For detailed instructions on returning defective earbuds, additional information would be needed.\n",
      "  - expected output: Steps: (1) Request RMA at zonic-support.com/rma, (2) get RMA number, (3) ship item (14-day window), (4) inspection (3 days), (5) repair/replace, (6) ship back, (7) close case. Timeline: ~10 business days. Escalation: rma.supervisor@zonic-support.com.\n",
      "  - context: None\n",
      "  - retrieval context: ['• Upon eligibility confirmation, Support Agent generates a unique RMA number via the \\nCRM system. \\n• Email RMA instructions to customer, including packaging requirements, shipping \\naddress, and deadline (typically 14 days). \\n5.4. Product Return', '• Customer ships the item, ensuring the RMA number is clearly marked on the label. \\n• Received items are logged into the warehouse inventory system under their RMA \\nnumber. \\n5.5. Product Assessment \\n• Warehouse team inspects returned products for physical damage, accessories, and']\n",
      "\n",
      "======================================================================\n",
      "\n",
      "Overall Metric Pass Rates\n",
      "\n",
      "Contextual Precision: 66.67% pass rate\n",
      "Contextual Recall: 33.33% pass rate\n",
      "\n",
      "======================================================================\n",
      "\n"
     ]
    },
    {
     "data": {
      "text/plain": [
       "\n",
       "\u001B[38;2;5;245;141m✓\u001B[0m Tests finished 🎉! Run \u001B[1;32m'deepeval view'\u001B[0m to analyze, debug, and save evaluation results on \u001B[38;2;106;0;255mConfident AI\u001B[0m.\n",
       "\n"
      ],
      "text/html": [
       "<pre style=\"white-space:pre;overflow-x:auto;line-height:normal;font-family:Menlo,'DejaVu Sans Mono',consolas,'Courier New',monospace\">\n",
       "<span style=\"color: #05f58d; text-decoration-color: #05f58d\">✓</span> Tests finished 🎉! Run <span style=\"color: #008000; text-decoration-color: #008000; font-weight: bold\">'deepeval view'</span> to analyze, debug, and save evaluation results on <span style=\"color: #6a00ff; text-decoration-color: #6a00ff\">Confident AI</span>.\n",
       "\n",
       "</pre>\n"
      ]
     },
     "metadata": {},
     "output_type": "display_data"
    }
   ],
   "execution_count": 29
  },
  {
   "metadata": {
    "ExecuteTime": {
     "end_time": "2025-07-03T06:09:03.581818Z",
     "start_time": "2025-07-03T06:08:55.732382Z"
    }
   },
   "cell_type": "code",
   "source": [
    "precision_metric.measure(test_cases[1])\n",
    "print(\"Score: \", precision_metric.score)\n",
    "print(\"Reason: \", precision_metric.reason)\n",
    "\n",
    "recall_metric.measure(test_cases[1])\n",
    "print(\"Score: \", recall_metric.score)\n",
    "print(\"Reason: \", recall_metric.reason)"
   ],
   "id": "861510896090ae99",
   "outputs": [
    {
     "data": {
      "text/plain": [
       "Output()"
      ],
      "application/vnd.jupyter.widget-view+json": {
       "version_major": 2,
       "version_minor": 0,
       "model_id": "4725a04c541f4a2298df963f91937c08"
      }
     },
     "metadata": {},
     "output_type": "display_data"
    },
    {
     "data": {
      "text/plain": [],
      "text/html": [
       "<pre style=\"white-space:pre;overflow-x:auto;line-height:normal;font-family:Menlo,'DejaVu Sans Mono',consolas,'Courier New',monospace\"></pre>\n"
      ]
     },
     "metadata": {},
     "output_type": "display_data"
    },
    {
     "data": {
      "text/plain": [
       "Output()"
      ],
      "application/vnd.jupyter.widget-view+json": {
       "version_major": 2,
       "version_minor": 0,
       "model_id": "f160cc6538074f8e81880af23a8f98de"
      }
     },
     "metadata": {},
     "output_type": "display_data"
    },
    {
     "name": "stdout",
     "output_type": "stream",
     "text": [
      "Score:  0\n",
      "Reason:  None\n"
     ]
    },
    {
     "data": {
      "text/plain": [],
      "text/html": [
       "<pre style=\"white-space:pre;overflow-x:auto;line-height:normal;font-family:Menlo,'DejaVu Sans Mono',consolas,'Courier New',monospace\"></pre>\n"
      ]
     },
     "metadata": {},
     "output_type": "display_data"
    },
    {
     "name": "stdout",
     "output_type": "stream",
     "text": [
      "Score:  1.0\n",
      "Reason:  None\n"
     ]
    }
   ],
   "execution_count": 35
  },
  {
   "metadata": {},
   "cell_type": "markdown",
   "source": [
    "### 5.5: Running the metrics one by one for sensitivity analysis\n",
    "\n",
    "    > \n",
    "    \"You can also run the FaithfulnessMetric (or any metric) on a single test case as a standalone, one-off execution.\""
   ],
   "id": "8148df40bf3a8d0d"
  },
  {
   "metadata": {},
   "cell_type": "markdown",
   "source": "##### Import the eval data",
   "id": "8879fd74596d60b1"
  },
  {
   "metadata": {
    "ExecuteTime": {
     "end_time": "2025-07-19T23:05:07.540852Z",
     "start_time": "2025-07-19T23:05:07.534014Z"
    }
   },
   "cell_type": "code",
   "source": [
    "import pandas as pd\n",
    "\n",
    "eval_data = pd.read_csv(\"./rag_resources/eval_qa.csv\",encoding=\"cp1252\")\n",
    "print(eval_data.head())\n",
    "questions = eval_data[\"question\"].tolist()\n",
    "answers = eval_data[\"answer\"].tolist()"
   ],
   "id": "4fdd8c4e34699189",
   "outputs": [
    {
     "name": "stdout",
     "output_type": "stream",
     "text": [
      "                                            question  \\\n",
      "0  What are the battery life and charging specs o...   \n",
      "1  How do I claim warranty for Bluetooth issues a...   \n",
      "2           How do I return defective earbuds (RMA)?   \n",
      "\n",
      "                                              answer  \n",
      "0  Battery: 8 hrs + 24 hrs (case). Charging: 1.5 ...  \n",
      "1  Coverage: 12-month warranty. Docs Needed: Rece...  \n",
      "2  Steps: (1) Request RMA at zonic-support.com/rm...  \n"
     ]
    }
   ],
   "execution_count": 46
  },
  {
   "metadata": {},
   "cell_type": "markdown",
   "source": "##### The RAG variables",
   "id": "7e19d6312507744c"
  },
  {
   "metadata": {
    "ExecuteTime": {
     "end_time": "2025-07-19T23:05:17.663049Z",
     "start_time": "2025-07-19T23:05:13.358276Z"
    }
   },
   "cell_type": "code",
   "source": [
    "## Step 2: Invoke the chain with the questions via the .batch() method\n",
    "batch_responses = rag_chain.batch(questions)\n",
    "\n",
    "## Step 3: Invoke the retrieved chunks via the .batch() method\n",
    "batch_retrieved_chunks = retriever.batch(questions)\n",
    "\n",
    "## Step 4: Bundle the batched responses from our LLM into a list\n",
    "rag_responses = [response.content for response in batch_responses]\n",
    "\n",
    "## Step 5: Bundle the retrieved context for each query into another list of list\n",
    "retrieval_contexts = [[chunk.page_content for chunk in retrieved_chunks] for retrieved_chunks in batch_retrieved_chunks]\n"
   ],
   "id": "eed0d4f0c687080f",
   "outputs": [],
   "execution_count": 47
  },
  {
   "metadata": {},
   "cell_type": "markdown",
   "source": "##### The evaluation variables",
   "id": "5d9135311039d5b4"
  },
  {
   "metadata": {
    "ExecuteTime": {
     "end_time": "2025-07-19T23:05:21.728451Z",
     "start_time": "2025-07-19T23:05:21.225530Z"
    }
   },
   "cell_type": "code",
   "source": [
    "from deepeval.evaluate import evaluate\n",
    "from deepeval.metrics import FaithfulnessMetric, AnswerRelevancyMetric\n",
    "from deepeval.test_case import LLMTestCase\n",
    " \n",
    "\n",
    "## Step 6: Compile our test cases\n",
    "test_cases = [\n",
    "    LLMTestCase(\n",
    "        input=q,\n",
    "        actual_output=r,\n",
    "        expected_output=a,\n",
    "        retrieval_context = rc\n",
    "        \n",
    "    )\n",
    "    for q, a, r, rc in zip(questions, answers, rag_responses, retrieval_contexts)\n",
    "]\n",
    "\n",
    " \n",
    "## Step 4: Instantiate the faithfulness metric\n",
    "faithfulness_metric = FaithfulnessMetric(\n",
    "    threshold=0.7,\n",
    "    model=\"gpt-4.1-mini\",\n",
    "    include_reason=False\n",
    ")\n",
    "\n",
    "## Step 4: Instantiate the faithfulness metric\n",
    "relevancy_metric = AnswerRelevancyMetric(\n",
    "    threshold=0.7,\n",
    "    model=\"gpt-4.1-mini\",\n",
    "    include_reason=False\n",
    ")\n",
    " \n"
   ],
   "id": "651bafbb26f8e765",
   "outputs": [],
   "execution_count": 48
  },
  {
   "metadata": {
    "ExecuteTime": {
     "end_time": "2025-07-19T23:05:46.738175Z",
     "start_time": "2025-07-19T23:05:24.747891Z"
    }
   },
   "cell_type": "code",
   "source": [
    "## For sensitivity analysis of the pipeline over multiple sessions\n",
    "faithfulness_scores = []\n",
    "relevancy_scores = []\n",
    "for test_case in test_cases:\n",
    "    faithfulness_scores.append(faithfulness_metric.measure(test_case))\n",
    "    relevancy_scores.append(relevancy_metric.measure(test_case))\n",
    "\n",
    "print(faithfulness_scores)\n",
    "print(relevancy_scores)"
   ],
   "id": "5479cf318599a628",
   "outputs": [
    {
     "data": {
      "text/plain": [
       "Output()"
      ],
      "application/vnd.jupyter.widget-view+json": {
       "version_major": 2,
       "version_minor": 0,
       "model_id": "b6b14425161b451494c6b8917715b865"
      }
     },
     "metadata": {},
     "output_type": "display_data"
    },
    {
     "data": {
      "text/plain": [],
      "text/html": [
       "<pre style=\"white-space:pre;overflow-x:auto;line-height:normal;font-family:Menlo,'DejaVu Sans Mono',consolas,'Courier New',monospace\"></pre>\n"
      ]
     },
     "metadata": {},
     "output_type": "display_data"
    },
    {
     "data": {
      "text/plain": [
       "Output()"
      ],
      "application/vnd.jupyter.widget-view+json": {
       "version_major": 2,
       "version_minor": 0,
       "model_id": "4fec579a8b4a4251a8c27dd3c6e9ace3"
      }
     },
     "metadata": {},
     "output_type": "display_data"
    },
    {
     "data": {
      "text/plain": [],
      "text/html": [
       "<pre style=\"white-space:pre;overflow-x:auto;line-height:normal;font-family:Menlo,'DejaVu Sans Mono',consolas,'Courier New',monospace\"></pre>\n"
      ]
     },
     "metadata": {},
     "output_type": "display_data"
    },
    {
     "data": {
      "text/plain": [
       "Output()"
      ],
      "application/vnd.jupyter.widget-view+json": {
       "version_major": 2,
       "version_minor": 0,
       "model_id": "b7660c655c9f47aa8a617a8d5bfee060"
      }
     },
     "metadata": {},
     "output_type": "display_data"
    },
    {
     "data": {
      "text/plain": [],
      "text/html": [
       "<pre style=\"white-space:pre;overflow-x:auto;line-height:normal;font-family:Menlo,'DejaVu Sans Mono',consolas,'Courier New',monospace\"></pre>\n"
      ]
     },
     "metadata": {},
     "output_type": "display_data"
    },
    {
     "data": {
      "text/plain": [
       "Output()"
      ],
      "application/vnd.jupyter.widget-view+json": {
       "version_major": 2,
       "version_minor": 0,
       "model_id": "48ce57dee4cd4c08ad5944a8b955e258"
      }
     },
     "metadata": {},
     "output_type": "display_data"
    },
    {
     "data": {
      "text/plain": [],
      "text/html": [
       "<pre style=\"white-space:pre;overflow-x:auto;line-height:normal;font-family:Menlo,'DejaVu Sans Mono',consolas,'Courier New',monospace\"></pre>\n"
      ]
     },
     "metadata": {},
     "output_type": "display_data"
    },
    {
     "data": {
      "text/plain": [
       "Output()"
      ],
      "application/vnd.jupyter.widget-view+json": {
       "version_major": 2,
       "version_minor": 0,
       "model_id": "1e22d709b8414f06862b0e486799dd55"
      }
     },
     "metadata": {},
     "output_type": "display_data"
    },
    {
     "data": {
      "text/plain": [],
      "text/html": [
       "<pre style=\"white-space:pre;overflow-x:auto;line-height:normal;font-family:Menlo,'DejaVu Sans Mono',consolas,'Courier New',monospace\"></pre>\n"
      ]
     },
     "metadata": {},
     "output_type": "display_data"
    },
    {
     "data": {
      "text/plain": [
       "Output()"
      ],
      "application/vnd.jupyter.widget-view+json": {
       "version_major": 2,
       "version_minor": 0,
       "model_id": "204cc3bc3667403fa3550af37de1deec"
      }
     },
     "metadata": {},
     "output_type": "display_data"
    },
    {
     "data": {
      "text/plain": [],
      "text/html": [
       "<pre style=\"white-space:pre;overflow-x:auto;line-height:normal;font-family:Menlo,'DejaVu Sans Mono',consolas,'Courier New',monospace\"></pre>\n"
      ]
     },
     "metadata": {},
     "output_type": "display_data"
    },
    {
     "name": "stdout",
     "output_type": "stream",
     "text": [
      "[1.0, 1.0, 1.0]\n",
      "[1.0, 0.0, 1.0]\n"
     ]
    }
   ],
   "execution_count": 49
  }
 ],
 "metadata": {
  "kernelspec": {
   "display_name": "Python 3",
   "language": "python",
   "name": "python3"
  },
  "language_info": {
   "codemirror_mode": {
    "name": "ipython",
    "version": 2
   },
   "file_extension": ".py",
   "mimetype": "text/x-python",
   "name": "python",
   "nbconvert_exporter": "python",
   "pygments_lexer": "ipython2",
   "version": "2.7.6"
  }
 },
 "nbformat": 4,
 "nbformat_minor": 5
}
